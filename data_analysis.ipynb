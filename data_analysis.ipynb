{
    "cells": [
        {
            "cell_type": "code",
            "execution_count": 1,
            "metadata": {},
            "outputs": [],
            "source": [
                "# try:\n",
                "#   %load_ext autotime\n",
                "# except:\n",
                "#   print(\"Console warning-- Autotime is jupyter platform specific\")"
            ]
        },
        {
            "cell_type": "markdown",
            "metadata": {},
            "source": [
                "## Notebook synopsis\n",
                "This Notebook takes tabular data and location of image files, checks distribution of classes, and applies weights to each class to be trained. In addition it tries to take takes as close to an equal distribution of a test data set to properly match test results through all classes. During analysis it notifies and suggests of any skewness of a dataset and suggests different ways of handling the dataset. Lastly a custom split function is written to split data according to parameters and prepare datasets for training, testing and validation. \n",
                "\n",
                "#### Skills\n",
                "- Dataset import\n",
                "- Dataframe manipulation and analysis\n",
                "- Custom function creation "
            ]
        },
        {
            "cell_type": "code",
            "execution_count": 2,
            "metadata": {},
            "outputs": [
                {
                    "data": {
                        "application/javascript": "\n        if (window._pyforest_update_imports_cell) { window._pyforest_update_imports_cell('import os'); }\n    ",
                        "text/plain": [
                            "<IPython.core.display.Javascript object>"
                        ]
                    },
                    "metadata": {},
                    "output_type": "display_data"
                }
            ],
            "source": [
                "from comet_ml import Experiment\n",
                "import math\n",
                "from pyforest import *\n",
                "lazy_imports()\n",
                "from pydicom import dcmread"
            ]
        },
        {
            "cell_type": "code",
            "execution_count": 3,
            "metadata": {},
            "outputs": [
                {
                    "data": {
                        "application/javascript": "\n        if (window._pyforest_update_imports_cell) { window._pyforest_update_imports_cell('import os'); }\n    ",
                        "text/plain": [
                            "<IPython.core.display.Javascript object>"
                        ]
                    },
                    "metadata": {},
                    "output_type": "display_data"
                },
                {
                    "data": {
                        "application/javascript": "\n        if (window._pyforest_update_imports_cell) { window._pyforest_update_imports_cell('import os\\nimport pandas as pd'); }\n    ",
                        "text/plain": [
                            "<IPython.core.display.Javascript object>"
                        ]
                    },
                    "metadata": {},
                    "output_type": "display_data"
                },
                {
                    "data": {
                        "text/html": [
                            "<div>\n",
                            "<style scoped>\n",
                            "    .dataframe tbody tr th:only-of-type {\n",
                            "        vertical-align: middle;\n",
                            "    }\n",
                            "\n",
                            "    .dataframe tbody tr th {\n",
                            "        vertical-align: top;\n",
                            "    }\n",
                            "\n",
                            "    .dataframe thead th {\n",
                            "        text-align: right;\n",
                            "    }\n",
                            "</style>\n",
                            "<table border=\"1\" class=\"dataframe\">\n",
                            "  <thead>\n",
                            "    <tr style=\"text-align: right;\">\n",
                            "      <th></th>\n",
                            "      <th>image_id</th>\n",
                            "      <th>class_name</th>\n",
                            "      <th>class_id</th>\n",
                            "      <th>rad_id</th>\n",
                            "      <th>x_min</th>\n",
                            "      <th>y_min</th>\n",
                            "      <th>x_max</th>\n",
                            "      <th>y_max</th>\n",
                            "    </tr>\n",
                            "  </thead>\n",
                            "  <tbody>\n",
                            "    <tr>\n",
                            "      <th>0</th>\n",
                            "      <td>50a418190bc3fb1ef1633bf9678929b3</td>\n",
                            "      <td>No finding</td>\n",
                            "      <td>14</td>\n",
                            "      <td>R11</td>\n",
                            "      <td>NaN</td>\n",
                            "      <td>NaN</td>\n",
                            "      <td>NaN</td>\n",
                            "      <td>NaN</td>\n",
                            "    </tr>\n",
                            "    <tr>\n",
                            "      <th>1</th>\n",
                            "      <td>21a10246a5ec7af151081d0cd6d65dc9</td>\n",
                            "      <td>No finding</td>\n",
                            "      <td>14</td>\n",
                            "      <td>R7</td>\n",
                            "      <td>NaN</td>\n",
                            "      <td>NaN</td>\n",
                            "      <td>NaN</td>\n",
                            "      <td>NaN</td>\n",
                            "    </tr>\n",
                            "    <tr>\n",
                            "      <th>2</th>\n",
                            "      <td>9a5094b2563a1ef3ff50dc5c7ff71345</td>\n",
                            "      <td>Cardiomegaly</td>\n",
                            "      <td>3</td>\n",
                            "      <td>R10</td>\n",
                            "      <td>691.0</td>\n",
                            "      <td>1375.0</td>\n",
                            "      <td>1653.0</td>\n",
                            "      <td>1831.0</td>\n",
                            "    </tr>\n",
                            "    <tr>\n",
                            "      <th>3</th>\n",
                            "      <td>051132a778e61a86eb147c7c6f564dfe</td>\n",
                            "      <td>Aortic enlargement</td>\n",
                            "      <td>0</td>\n",
                            "      <td>R10</td>\n",
                            "      <td>1264.0</td>\n",
                            "      <td>743.0</td>\n",
                            "      <td>1611.0</td>\n",
                            "      <td>1019.0</td>\n",
                            "    </tr>\n",
                            "    <tr>\n",
                            "      <th>4</th>\n",
                            "      <td>063319de25ce7edb9b1c6b8881290140</td>\n",
                            "      <td>No finding</td>\n",
                            "      <td>14</td>\n",
                            "      <td>R10</td>\n",
                            "      <td>NaN</td>\n",
                            "      <td>NaN</td>\n",
                            "      <td>NaN</td>\n",
                            "      <td>NaN</td>\n",
                            "    </tr>\n",
                            "    <tr>\n",
                            "      <th>5</th>\n",
                            "      <td>1c32170b4af4ce1a3030eb8167753b06</td>\n",
                            "      <td>Pleural thickening</td>\n",
                            "      <td>11</td>\n",
                            "      <td>R9</td>\n",
                            "      <td>627.0</td>\n",
                            "      <td>357.0</td>\n",
                            "      <td>947.0</td>\n",
                            "      <td>433.0</td>\n",
                            "    </tr>\n",
                            "    <tr>\n",
                            "      <th>6</th>\n",
                            "      <td>0c7a38f293d5f5e4846aa4ca6db4daf1</td>\n",
                            "      <td>ILD</td>\n",
                            "      <td>5</td>\n",
                            "      <td>R17</td>\n",
                            "      <td>1347.0</td>\n",
                            "      <td>245.0</td>\n",
                            "      <td>2188.0</td>\n",
                            "      <td>2169.0</td>\n",
                            "    </tr>\n",
                            "    <tr>\n",
                            "      <th>7</th>\n",
                            "      <td>47ed17dcb2cbeec15182ed335a8b5a9e</td>\n",
                            "      <td>Nodule/Mass</td>\n",
                            "      <td>8</td>\n",
                            "      <td>R9</td>\n",
                            "      <td>557.0</td>\n",
                            "      <td>2352.0</td>\n",
                            "      <td>675.0</td>\n",
                            "      <td>2484.0</td>\n",
                            "    </tr>\n",
                            "    <tr>\n",
                            "      <th>8</th>\n",
                            "      <td>d3637a1935a905b3c326af31389cb846</td>\n",
                            "      <td>Aortic enlargement</td>\n",
                            "      <td>0</td>\n",
                            "      <td>R10</td>\n",
                            "      <td>1329.0</td>\n",
                            "      <td>743.0</td>\n",
                            "      <td>1521.0</td>\n",
                            "      <td>958.0</td>\n",
                            "    </tr>\n",
                            "    <tr>\n",
                            "      <th>9</th>\n",
                            "      <td>afb6230703512afc370f236e8fe98806</td>\n",
                            "      <td>Pulmonary fibrosis</td>\n",
                            "      <td>13</td>\n",
                            "      <td>R9</td>\n",
                            "      <td>1857.0</td>\n",
                            "      <td>1607.0</td>\n",
                            "      <td>2126.0</td>\n",
                            "      <td>2036.0</td>\n",
                            "    </tr>\n",
                            "  </tbody>\n",
                            "</table>\n",
                            "</div>"
                        ],
                        "text/plain": [
                            "                           image_id          class_name  class_id rad_id  \\\n",
                            "0  50a418190bc3fb1ef1633bf9678929b3          No finding        14    R11   \n",
                            "1  21a10246a5ec7af151081d0cd6d65dc9          No finding        14     R7   \n",
                            "2  9a5094b2563a1ef3ff50dc5c7ff71345        Cardiomegaly         3    R10   \n",
                            "3  051132a778e61a86eb147c7c6f564dfe  Aortic enlargement         0    R10   \n",
                            "4  063319de25ce7edb9b1c6b8881290140          No finding        14    R10   \n",
                            "5  1c32170b4af4ce1a3030eb8167753b06  Pleural thickening        11     R9   \n",
                            "6  0c7a38f293d5f5e4846aa4ca6db4daf1                 ILD         5    R17   \n",
                            "7  47ed17dcb2cbeec15182ed335a8b5a9e         Nodule/Mass         8     R9   \n",
                            "8  d3637a1935a905b3c326af31389cb846  Aortic enlargement         0    R10   \n",
                            "9  afb6230703512afc370f236e8fe98806  Pulmonary fibrosis        13     R9   \n",
                            "\n",
                            "    x_min   y_min   x_max   y_max  \n",
                            "0     NaN     NaN     NaN     NaN  \n",
                            "1     NaN     NaN     NaN     NaN  \n",
                            "2   691.0  1375.0  1653.0  1831.0  \n",
                            "3  1264.0   743.0  1611.0  1019.0  \n",
                            "4     NaN     NaN     NaN     NaN  \n",
                            "5   627.0   357.0   947.0   433.0  \n",
                            "6  1347.0   245.0  2188.0  2169.0  \n",
                            "7   557.0  2352.0   675.0  2484.0  \n",
                            "8  1329.0   743.0  1521.0   958.0  \n",
                            "9  1857.0  1607.0  2126.0  2036.0  "
                        ]
                    },
                    "execution_count": 3,
                    "metadata": {},
                    "output_type": "execute_result"
                },
                {
                    "data": {
                        "application/javascript": "\n        if (window._pyforest_update_imports_cell) { window._pyforest_update_imports_cell('import os\\nimport pandas as pd'); }\n    ",
                        "text/plain": [
                            "<IPython.core.display.Javascript object>"
                        ]
                    },
                    "metadata": {},
                    "output_type": "display_data"
                }
            ],
            "source": [
                "df = pd.read_csv('/media/gyasis/Drive 2/Data/vinbigdata/train.csv')\n",
                "df.head(10)"
            ]
        },
        {
            "cell_type": "code",
            "execution_count": 4,
            "metadata": {},
            "outputs": [
                {
                    "data": {
                        "application/javascript": "\n        if (window._pyforest_update_imports_cell) { window._pyforest_update_imports_cell('import os\\nimport pandas as pd'); }\n    ",
                        "text/plain": [
                            "<IPython.core.display.Javascript object>"
                        ]
                    },
                    "metadata": {},
                    "output_type": "display_data"
                },
                {
                    "data": {
                        "application/javascript": "\n        if (window._pyforest_update_imports_cell) { window._pyforest_update_imports_cell('import matplotlib.pyplot as plt\\nimport os\\nimport pandas as pd'); }\n    ",
                        "text/plain": [
                            "<IPython.core.display.Javascript object>"
                        ]
                    },
                    "metadata": {},
                    "output_type": "display_data"
                },
                {
                    "data": {
                        "text/plain": [
                            "<AxesSubplot:xlabel='class_name', ylabel='Count'>"
                        ]
                    },
                    "execution_count": 4,
                    "metadata": {},
                    "output_type": "execute_result"
                },
                {
                    "data": {
                        "image/png": "[encoded data removed]",
                        "text/plain": [
                            "<Figure size 432x288 with 1 Axes>"
                        ]
                    },
                    "metadata": {
                        "needs_background": "light"
                    },
                    "output_type": "display_data"
                },
                {
                    "data": {
                        "application/javascript": "\n        if (window._pyforest_update_imports_cell) { window._pyforest_update_imports_cell('import matplotlib.pyplot as plt\\nimport os\\nimport pandas as pd'); }\n    ",
                        "text/plain": [
                            "<IPython.core.display.Javascript object>"
                        ]
                    },
                    "metadata": {},
                    "output_type": "display_data"
                }
            ],
            "source": [
                "import seaborn as sns\n",
                "plt.xticks(rotation=90)\n",
                "sns.set_theme(style=\"dark\")\n",
                "sns.histplot(x=df.class_name, data=df)"
            ]
        },
        {
            "cell_type": "code",
            "execution_count": 5,
            "metadata": {},
            "outputs": [
                {
                    "data": {
                        "application/javascript": "\n        if (window._pyforest_update_imports_cell) { window._pyforest_update_imports_cell('import matplotlib.pyplot as plt\\nimport os\\nimport pandas as pd'); }\n    ",
                        "text/plain": [
                            "<IPython.core.display.Javascript object>"
                        ]
                    },
                    "metadata": {},
                    "output_type": "display_data"
                },
                {
                    "data": {
                        "application/javascript": "\n        if (window._pyforest_update_imports_cell) { window._pyforest_update_imports_cell('import matplotlib.pyplot as plt\\nimport os\\nimport pandas as pd'); }\n    ",
                        "text/plain": [
                            "<IPython.core.display.Javascript object>"
                        ]
                    },
                    "metadata": {},
                    "output_type": "display_data"
                }
            ],
            "source": [
                "df=df[['class_name','class_id','image_id']]"
            ]
        },
        {
            "cell_type": "code",
            "execution_count": 6,
            "metadata": {},
            "outputs": [
                {
                    "data": {
                        "application/javascript": "\n        if (window._pyforest_update_imports_cell) { window._pyforest_update_imports_cell('import matplotlib.pyplot as plt\\nimport os\\nimport pandas as pd'); }\n    ",
                        "text/plain": [
                            "<IPython.core.display.Javascript object>"
                        ]
                    },
                    "metadata": {},
                    "output_type": "display_data"
                },
                {
                    "data": {
                        "text/html": [
                            "<div>\n",
                            "<style scoped>\n",
                            "    .dataframe tbody tr th:only-of-type {\n",
                            "        vertical-align: middle;\n",
                            "    }\n",
                            "\n",
                            "    .dataframe tbody tr th {\n",
                            "        vertical-align: top;\n",
                            "    }\n",
                            "\n",
                            "    .dataframe thead th {\n",
                            "        text-align: right;\n",
                            "    }\n",
                            "</style>\n",
                            "<table border=\"1\" class=\"dataframe\">\n",
                            "  <thead>\n",
                            "    <tr style=\"text-align: right;\">\n",
                            "      <th></th>\n",
                            "      <th>class_name</th>\n",
                            "      <th>class_id</th>\n",
                            "      <th>imagepath</th>\n",
                            "    </tr>\n",
                            "  </thead>\n",
                            "  <tbody>\n",
                            "    <tr>\n",
                            "      <th>0</th>\n",
                            "      <td>No finding</td>\n",
                            "      <td>14</td>\n",
                            "      <td>/media/gyasis/Drive 2/Data/vinbigdata/train/50...</td>\n",
                            "    </tr>\n",
                            "    <tr>\n",
                            "      <th>1</th>\n",
                            "      <td>No finding</td>\n",
                            "      <td>14</td>\n",
                            "      <td>/media/gyasis/Drive 2/Data/vinbigdata/train/21...</td>\n",
                            "    </tr>\n",
                            "    <tr>\n",
                            "      <th>2</th>\n",
                            "      <td>Cardiomegaly</td>\n",
                            "      <td>3</td>\n",
                            "      <td>/media/gyasis/Drive 2/Data/vinbigdata/train/9a...</td>\n",
                            "    </tr>\n",
                            "    <tr>\n",
                            "      <th>3</th>\n",
                            "      <td>Aortic enlargement</td>\n",
                            "      <td>0</td>\n",
                            "      <td>/media/gyasis/Drive 2/Data/vinbigdata/train/05...</td>\n",
                            "    </tr>\n",
                            "    <tr>\n",
                            "      <th>4</th>\n",
                            "      <td>No finding</td>\n",
                            "      <td>14</td>\n",
                            "      <td>/media/gyasis/Drive 2/Data/vinbigdata/train/06...</td>\n",
                            "    </tr>\n",
                            "  </tbody>\n",
                            "</table>\n",
                            "</div>"
                        ],
                        "text/plain": [
                            "           class_name  class_id  \\\n",
                            "0          No finding        14   \n",
                            "1          No finding        14   \n",
                            "2        Cardiomegaly         3   \n",
                            "3  Aortic enlargement         0   \n",
                            "4          No finding        14   \n",
                            "\n",
                            "                                           imagepath  \n",
                            "0  /media/gyasis/Drive 2/Data/vinbigdata/train/50...  \n",
                            "1  /media/gyasis/Drive 2/Data/vinbigdata/train/21...  \n",
                            "2  /media/gyasis/Drive 2/Data/vinbigdata/train/9a...  \n",
                            "3  /media/gyasis/Drive 2/Data/vinbigdata/train/05...  \n",
                            "4  /media/gyasis/Drive 2/Data/vinbigdata/train/06...  "
                        ]
                    },
                    "execution_count": 6,
                    "metadata": {},
                    "output_type": "execute_result"
                },
                {
                    "data": {
                        "application/javascript": "\n        if (window._pyforest_update_imports_cell) { window._pyforest_update_imports_cell('import matplotlib.pyplot as plt\\nimport os\\nimport pandas as pd'); }\n    ",
                        "text/plain": [
                            "<IPython.core.display.Javascript object>"
                        ]
                    },
                    "metadata": {},
                    "output_type": "display_data"
                }
            ],
            "source": [
                "def build_path(x):\n",
                "    path_ = '/media/gyasis/Drive 2/Data/vinbigdata/train/'\n",
                "    filetype = '.dicom'\n",
                "    x = (path_+x+filetype)\n",
                "    return x\n",
                "\n",
                "df['imagepath'] = df['image_id'].apply(lambda x: build_path(x))\n",
                "df=df[['class_name', 'class_id','imagepath']]\n",
                "df.head()"
            ]
        },
        {
            "cell_type": "code",
            "execution_count": 7,
            "metadata": {},
            "outputs": [
                {
                    "data": {
                        "application/javascript": "\n        if (window._pyforest_update_imports_cell) { window._pyforest_update_imports_cell('import matplotlib.pyplot as plt\\nimport os\\nimport pandas as pd'); }\n    ",
                        "text/plain": [
                            "<IPython.core.display.Javascript object>"
                        ]
                    },
                    "metadata": {},
                    "output_type": "display_data"
                },
                {
                    "data": {
                        "application/javascript": "\n        if (window._pyforest_update_imports_cell) { window._pyforest_update_imports_cell('import matplotlib.pyplot as plt\\nimport os\\nimport pandas as pd'); }\n    ",
                        "text/plain": [
                            "<IPython.core.display.Javascript object>"
                        ]
                    },
                    "metadata": {},
                    "output_type": "display_data"
                },
                {
                    "data": {
                        "text/html": [
                            "<div>\n",
                            "<style scoped>\n",
                            "    .dataframe tbody tr th:only-of-type {\n",
                            "        vertical-align: middle;\n",
                            "    }\n",
                            "\n",
                            "    .dataframe tbody tr th {\n",
                            "        vertical-align: top;\n",
                            "    }\n",
                            "\n",
                            "    .dataframe thead th {\n",
                            "        text-align: right;\n",
                            "    }\n",
                            "</style>\n",
                            "<table border=\"1\" class=\"dataframe\">\n",
                            "  <thead>\n",
                            "    <tr style=\"text-align: right;\">\n",
                            "      <th></th>\n",
                            "      <th>Aortic enlargement</th>\n",
                            "      <th>Atelectasis</th>\n",
                            "      <th>Calcification</th>\n",
                            "      <th>Cardiomegaly</th>\n",
                            "      <th>Consolidation</th>\n",
                            "      <th>ILD</th>\n",
                            "      <th>Infiltration</th>\n",
                            "      <th>Lung Opacity</th>\n",
                            "      <th>No finding</th>\n",
                            "      <th>Nodule/Mass</th>\n",
                            "      <th>Other lesion</th>\n",
                            "      <th>Pleural effusion</th>\n",
                            "      <th>Pleural thickening</th>\n",
                            "      <th>Pneumothorax</th>\n",
                            "      <th>Pulmonary fibrosis</th>\n",
                            "    </tr>\n",
                            "  </thead>\n",
                            "  <tbody>\n",
                            "    <tr>\n",
                            "      <th>0</th>\n",
                            "      <td>0</td>\n",
                            "      <td>0</td>\n",
                            "      <td>0</td>\n",
                            "      <td>0</td>\n",
                            "      <td>0</td>\n",
                            "      <td>0</td>\n",
                            "      <td>0</td>\n",
                            "      <td>0</td>\n",
                            "      <td>1</td>\n",
                            "      <td>0</td>\n",
                            "      <td>0</td>\n",
                            "      <td>0</td>\n",
                            "      <td>0</td>\n",
                            "      <td>0</td>\n",
                            "      <td>0</td>\n",
                            "    </tr>\n",
                            "    <tr>\n",
                            "      <th>1</th>\n",
                            "      <td>0</td>\n",
                            "      <td>0</td>\n",
                            "      <td>0</td>\n",
                            "      <td>0</td>\n",
                            "      <td>0</td>\n",
                            "      <td>0</td>\n",
                            "      <td>0</td>\n",
                            "      <td>0</td>\n",
                            "      <td>1</td>\n",
                            "      <td>0</td>\n",
                            "      <td>0</td>\n",
                            "      <td>0</td>\n",
                            "      <td>0</td>\n",
                            "      <td>0</td>\n",
                            "      <td>0</td>\n",
                            "    </tr>\n",
                            "    <tr>\n",
                            "      <th>2</th>\n",
                            "      <td>0</td>\n",
                            "      <td>0</td>\n",
                            "      <td>0</td>\n",
                            "      <td>1</td>\n",
                            "      <td>0</td>\n",
                            "      <td>0</td>\n",
                            "      <td>0</td>\n",
                            "      <td>0</td>\n",
                            "      <td>0</td>\n",
                            "      <td>0</td>\n",
                            "      <td>0</td>\n",
                            "      <td>0</td>\n",
                            "      <td>0</td>\n",
                            "      <td>0</td>\n",
                            "      <td>0</td>\n",
                            "    </tr>\n",
                            "    <tr>\n",
                            "      <th>3</th>\n",
                            "      <td>1</td>\n",
                            "      <td>0</td>\n",
                            "      <td>0</td>\n",
                            "      <td>0</td>\n",
                            "      <td>0</td>\n",
                            "      <td>0</td>\n",
                            "      <td>0</td>\n",
                            "      <td>0</td>\n",
                            "      <td>0</td>\n",
                            "      <td>0</td>\n",
                            "      <td>0</td>\n",
                            "      <td>0</td>\n",
                            "      <td>0</td>\n",
                            "      <td>0</td>\n",
                            "      <td>0</td>\n",
                            "    </tr>\n",
                            "    <tr>\n",
                            "      <th>4</th>\n",
                            "      <td>0</td>\n",
                            "      <td>0</td>\n",
                            "      <td>0</td>\n",
                            "      <td>0</td>\n",
                            "      <td>0</td>\n",
                            "      <td>0</td>\n",
                            "      <td>0</td>\n",
                            "      <td>0</td>\n",
                            "      <td>1</td>\n",
                            "      <td>0</td>\n",
                            "      <td>0</td>\n",
                            "      <td>0</td>\n",
                            "      <td>0</td>\n",
                            "      <td>0</td>\n",
                            "      <td>0</td>\n",
                            "    </tr>\n",
                            "    <tr>\n",
                            "      <th>...</th>\n",
                            "      <td>...</td>\n",
                            "      <td>...</td>\n",
                            "      <td>...</td>\n",
                            "      <td>...</td>\n",
                            "      <td>...</td>\n",
                            "      <td>...</td>\n",
                            "      <td>...</td>\n",
                            "      <td>...</td>\n",
                            "      <td>...</td>\n",
                            "      <td>...</td>\n",
                            "      <td>...</td>\n",
                            "      <td>...</td>\n",
                            "      <td>...</td>\n",
                            "      <td>...</td>\n",
                            "      <td>...</td>\n",
                            "    </tr>\n",
                            "    <tr>\n",
                            "      <th>67909</th>\n",
                            "      <td>0</td>\n",
                            "      <td>0</td>\n",
                            "      <td>0</td>\n",
                            "      <td>0</td>\n",
                            "      <td>0</td>\n",
                            "      <td>0</td>\n",
                            "      <td>0</td>\n",
                            "      <td>0</td>\n",
                            "      <td>1</td>\n",
                            "      <td>0</td>\n",
                            "      <td>0</td>\n",
                            "      <td>0</td>\n",
                            "      <td>0</td>\n",
                            "      <td>0</td>\n",
                            "      <td>0</td>\n",
                            "    </tr>\n",
                            "    <tr>\n",
                            "      <th>67910</th>\n",
                            "      <td>0</td>\n",
                            "      <td>0</td>\n",
                            "      <td>0</td>\n",
                            "      <td>0</td>\n",
                            "      <td>0</td>\n",
                            "      <td>0</td>\n",
                            "      <td>0</td>\n",
                            "      <td>0</td>\n",
                            "      <td>1</td>\n",
                            "      <td>0</td>\n",
                            "      <td>0</td>\n",
                            "      <td>0</td>\n",
                            "      <td>0</td>\n",
                            "      <td>0</td>\n",
                            "      <td>0</td>\n",
                            "    </tr>\n",
                            "    <tr>\n",
                            "      <th>67911</th>\n",
                            "      <td>0</td>\n",
                            "      <td>0</td>\n",
                            "      <td>0</td>\n",
                            "      <td>0</td>\n",
                            "      <td>0</td>\n",
                            "      <td>0</td>\n",
                            "      <td>0</td>\n",
                            "      <td>0</td>\n",
                            "      <td>1</td>\n",
                            "      <td>0</td>\n",
                            "      <td>0</td>\n",
                            "      <td>0</td>\n",
                            "      <td>0</td>\n",
                            "      <td>0</td>\n",
                            "      <td>0</td>\n",
                            "    </tr>\n",
                            "    <tr>\n",
                            "      <th>67912</th>\n",
                            "      <td>0</td>\n",
                            "      <td>0</td>\n",
                            "      <td>0</td>\n",
                            "      <td>1</td>\n",
                            "      <td>0</td>\n",
                            "      <td>0</td>\n",
                            "      <td>0</td>\n",
                            "      <td>0</td>\n",
                            "      <td>0</td>\n",
                            "      <td>0</td>\n",
                            "      <td>0</td>\n",
                            "      <td>0</td>\n",
                            "      <td>0</td>\n",
                            "      <td>0</td>\n",
                            "      <td>0</td>\n",
                            "    </tr>\n",
                            "    <tr>\n",
                            "      <th>67913</th>\n",
                            "      <td>0</td>\n",
                            "      <td>0</td>\n",
                            "      <td>0</td>\n",
                            "      <td>0</td>\n",
                            "      <td>0</td>\n",
                            "      <td>0</td>\n",
                            "      <td>0</td>\n",
                            "      <td>0</td>\n",
                            "      <td>1</td>\n",
                            "      <td>0</td>\n",
                            "      <td>0</td>\n",
                            "      <td>0</td>\n",
                            "      <td>0</td>\n",
                            "      <td>0</td>\n",
                            "      <td>0</td>\n",
                            "    </tr>\n",
                            "  </tbody>\n",
                            "</table>\n",
                            "<p>67914 rows × 15 columns</p>\n",
                            "</div>"
                        ],
                        "text/plain": [
                            "       Aortic enlargement  Atelectasis  Calcification  Cardiomegaly  \\\n",
                            "0                       0            0              0             0   \n",
                            "1                       0            0              0             0   \n",
                            "2                       0            0              0             1   \n",
                            "3                       1            0              0             0   \n",
                            "4                       0            0              0             0   \n",
                            "...                   ...          ...            ...           ...   \n",
                            "67909                   0            0              0             0   \n",
                            "67910                   0            0              0             0   \n",
                            "67911                   0            0              0             0   \n",
                            "67912                   0            0              0             1   \n",
                            "67913                   0            0              0             0   \n",
                            "\n",
                            "       Consolidation  ILD  Infiltration  Lung Opacity  No finding  \\\n",
                            "0                  0    0             0             0           1   \n",
                            "1                  0    0             0             0           1   \n",
                            "2                  0    0             0             0           0   \n",
                            "3                  0    0             0             0           0   \n",
                            "4                  0    0             0             0           1   \n",
                            "...              ...  ...           ...           ...         ...   \n",
                            "67909              0    0             0             0           1   \n",
                            "67910              0    0             0             0           1   \n",
                            "67911              0    0             0             0           1   \n",
                            "67912              0    0             0             0           0   \n",
                            "67913              0    0             0             0           1   \n",
                            "\n",
                            "       Nodule/Mass  Other lesion  Pleural effusion  Pleural thickening  \\\n",
                            "0                0             0                 0                   0   \n",
                            "1                0             0                 0                   0   \n",
                            "2                0             0                 0                   0   \n",
                            "3                0             0                 0                   0   \n",
                            "4                0             0                 0                   0   \n",
                            "...            ...           ...               ...                 ...   \n",
                            "67909            0             0                 0                   0   \n",
                            "67910            0             0                 0                   0   \n",
                            "67911            0             0                 0                   0   \n",
                            "67912            0             0                 0                   0   \n",
                            "67913            0             0                 0                   0   \n",
                            "\n",
                            "       Pneumothorax  Pulmonary fibrosis  \n",
                            "0                 0                   0  \n",
                            "1                 0                   0  \n",
                            "2                 0                   0  \n",
                            "3                 0                   0  \n",
                            "4                 0                   0  \n",
                            "...             ...                 ...  \n",
                            "67909             0                   0  \n",
                            "67910             0                   0  \n",
                            "67911             0                   0  \n",
                            "67912             0                   0  \n",
                            "67913             0                   0  \n",
                            "\n",
                            "[67914 rows x 15 columns]"
                        ]
                    },
                    "execution_count": 7,
                    "metadata": {},
                    "output_type": "execute_result"
                },
                {
                    "data": {
                        "application/javascript": "\n        if (window._pyforest_update_imports_cell) { window._pyforest_update_imports_cell('import matplotlib.pyplot as plt\\nimport os\\nimport pandas as pd'); }\n    ",
                        "text/plain": [
                            "<IPython.core.display.Javascript object>"
                        ]
                    },
                    "metadata": {},
                    "output_type": "display_data"
                }
            ],
            "source": [
                "pd.get_dummies(df['class_name'])"
            ]
        },
        {
            "cell_type": "code",
            "execution_count": 8,
            "metadata": {},
            "outputs": [
                {
                    "data": {
                        "application/javascript": "\n        if (window._pyforest_update_imports_cell) { window._pyforest_update_imports_cell('import matplotlib.pyplot as plt\\nimport os\\nimport pandas as pd'); }\n    ",
                        "text/plain": [
                            "<IPython.core.display.Javascript object>"
                        ]
                    },
                    "metadata": {},
                    "output_type": "display_data"
                },
                {
                    "data": {
                        "application/javascript": "\n        if (window._pyforest_update_imports_cell) { window._pyforest_update_imports_cell('import matplotlib.pyplot as plt\\nimport os\\nimport pandas as pd'); }\n    ",
                        "text/plain": [
                            "<IPython.core.display.Javascript object>"
                        ]
                    },
                    "metadata": {},
                    "output_type": "display_data"
                },
                {
                    "data": {
                        "application/javascript": "\n        if (window._pyforest_update_imports_cell) { window._pyforest_update_imports_cell('import matplotlib.pyplot as plt\\nimport os\\nimport pandas as pd'); }\n    ",
                        "text/plain": [
                            "<IPython.core.display.Javascript object>"
                        ]
                    },
                    "metadata": {},
                    "output_type": "display_data"
                }
            ],
            "source": [
                "df1 = pd.get_dummies(df['class_id'].astype(str))"
            ]
        },
        {
            "cell_type": "code",
            "execution_count": 9,
            "metadata": {},
            "outputs": [
                {
                    "data": {
                        "application/javascript": "\n        if (window._pyforest_update_imports_cell) { window._pyforest_update_imports_cell('import matplotlib.pyplot as plt\\nimport os\\nimport pandas as pd'); }\n    ",
                        "text/plain": [
                            "<IPython.core.display.Javascript object>"
                        ]
                    },
                    "metadata": {},
                    "output_type": "display_data"
                },
                {
                    "data": {
                        "application/javascript": "\n        if (window._pyforest_update_imports_cell) { window._pyforest_update_imports_cell('import numpy as np\\nimport matplotlib.pyplot as plt\\nimport os\\nimport pandas as pd'); }\n    ",
                        "text/plain": [
                            "<IPython.core.display.Javascript object>"
                        ]
                    },
                    "metadata": {},
                    "output_type": "display_data"
                },
                {
                    "data": {
                        "application/javascript": "\n        if (window._pyforest_update_imports_cell) { window._pyforest_update_imports_cell('import numpy as np\\nimport matplotlib.pyplot as plt\\nimport os\\nimport pandas as pd'); }\n    ",
                        "text/plain": [
                            "<IPython.core.display.Javascript object>"
                        ]
                    },
                    "metadata": {},
                    "output_type": "display_data"
                }
            ],
            "source": [
                "#mapping for later use\n",
                "disease= [\"Aortic enlargement\"\n",
                ",\"Atelectasis\"\n",
                ",\"Calcification\"\n",
                ",\"Cardiomegaly\"\n",
                ",\"Consolidation\"\n",
                ",\"ILD\"\n",
                ",\"Infiltration\"\n",
                ",\"Lung Opacity\"\n",
                ",\"Nodule/Mass\"\n",
                ",\"Other lesion\"\n",
                ",\"Pleural effusion\"\n",
                ",\"Pleural thickening\"\n",
                ",\"Pneumothorax\"\n",
                ",\"Pulmonary fibrosis\"\n",
                ",\"No_finding\"]\n",
                "\n",
                "#map df.class_id to disease\n",
                "# df['class_id_test'] = df['class_id'].map(lambda x: disease[x])\n",
                "df.head()\n",
                "df1.columns = df1.columns.astype(\"int\").map(lambda x: disease[x])\n",
                "sample_array = np.array(df1)"
            ]
        },
        {
            "cell_type": "code",
            "execution_count": 10,
            "metadata": {},
            "outputs": [
                {
                    "data": {
                        "application/javascript": "\n        if (window._pyforest_update_imports_cell) { window._pyforest_update_imports_cell('import numpy as np\\nimport matplotlib.pyplot as plt\\nimport os\\nimport pandas as pd'); }\n    ",
                        "text/plain": [
                            "<IPython.core.display.Javascript object>"
                        ]
                    },
                    "metadata": {},
                    "output_type": "display_data"
                },
                {
                    "data": {
                        "application/javascript": "\n        if (window._pyforest_update_imports_cell) { window._pyforest_update_imports_cell('import numpy as np\\nimport matplotlib.pyplot as plt\\nimport os\\nimport pandas as pd'); }\n    ",
                        "text/plain": [
                            "<IPython.core.display.Javascript object>"
                        ]
                    },
                    "metadata": {},
                    "output_type": "display_data"
                },
                {
                    "data": {
                        "application/javascript": "\n        if (window._pyforest_update_imports_cell) { window._pyforest_update_imports_cell('import numpy as np\\nimport matplotlib.pyplot as plt\\nimport os\\nimport pandas as pd'); }\n    ",
                        "text/plain": [
                            "<IPython.core.display.Javascript object>"
                        ]
                    },
                    "metadata": {},
                    "output_type": "display_data"
                }
            ],
            "source": [
                "def get_class_frequencies():\n",
                "  positive_freq = sample_array.sum(axis=0) / sample_array.shape[0]\n",
                "  negative_freq = np.ones(positive_freq.shape) - positive_freq\n",
                "  return positive_freq, negative_freq\n",
                "\n",
                "p,n = get_class_frequencies()"
            ]
        },
        {
            "cell_type": "code",
            "execution_count": 11,
            "metadata": {},
            "outputs": [
                {
                    "data": {
                        "application/javascript": "\n        if (window._pyforest_update_imports_cell) { window._pyforest_update_imports_cell('import numpy as np\\nimport matplotlib.pyplot as plt\\nimport os\\nimport pandas as pd'); }\n    ",
                        "text/plain": [
                            "<IPython.core.display.Javascript object>"
                        ]
                    },
                    "metadata": {},
                    "output_type": "display_data"
                },
                {
                    "data": {
                        "application/javascript": "\n        if (window._pyforest_update_imports_cell) { window._pyforest_update_imports_cell('import numpy as np\\nimport matplotlib.pyplot as plt\\nimport os\\nimport pandas as pd'); }\n    ",
                        "text/plain": [
                            "<IPython.core.display.Javascript object>"
                        ]
                    },
                    "metadata": {},
                    "output_type": "display_data"
                },
                {
                    "data": {
                        "application/javascript": "\n        if (window._pyforest_update_imports_cell) { window._pyforest_update_imports_cell('import numpy as np\\nimport matplotlib.pyplot as plt\\nimport os\\nimport pandas as pd'); }\n    ",
                        "text/plain": [
                            "<IPython.core.display.Javascript object>"
                        ]
                    },
                    "metadata": {},
                    "output_type": "display_data"
                },
                {
                    "data": {
                        "image/png": "[encoded data removed]",
                        "text/plain": [
                            "<Figure size 432x288 with 1 Axes>"
                        ]
                    },
                    "metadata": {},
                    "output_type": "display_data"
                },
                {
                    "data": {
                        "application/javascript": "\n        if (window._pyforest_update_imports_cell) { window._pyforest_update_imports_cell('import numpy as np\\nimport matplotlib.pyplot as plt\\nimport os\\nimport pandas as pd'); }\n    ",
                        "text/plain": [
                            "<IPython.core.display.Javascript object>"
                        ]
                    },
                    "metadata": {},
                    "output_type": "display_data"
                }
            ],
            "source": [
                "data = pd.DataFrame({\"Class\": df1.columns, \"Label\": \"Positive\", \"Value\": p})\n",
                "data = data.append([{\"Class\": df1.columns[l], \"Label\": \"Negative\", \"Value\": v} for l, v in enumerate(n)], ignore_index=True)\n",
                "plt.xticks(rotation=90)\n",
                "f = sns.barplot(x=\"Class\", y=\"Value\",hue=\"Label\", data=data)"
            ]
        },
        {
            "cell_type": "code",
            "execution_count": 12,
            "metadata": {},
            "outputs": [
                {
                    "data": {
                        "application/javascript": "\n        if (window._pyforest_update_imports_cell) { window._pyforest_update_imports_cell('import numpy as np\\nimport matplotlib.pyplot as plt\\nimport os\\nimport pandas as pd'); }\n    ",
                        "text/plain": [
                            "<IPython.core.display.Javascript object>"
                        ]
                    },
                    "metadata": {},
                    "output_type": "display_data"
                },
                {
                    "name": "stdout",
                    "output_type": "stream",
                    "text": [
                        "[0.1054569  0.00410814 0.03645787 0.07129605 0.00332774 0.06854257\n",
                        " 0.46850428 0.01413552 0.07990989 0.00818682 0.0147245  0.01836146\n",
                        " 0.03656094 0.03798922 0.03243808]\n",
                        "[0.8945431  0.99589186 0.96354213 0.92870395 0.99667226 0.93145743\n",
                        " 0.53149572 0.98586448 0.92009011 0.99181318 0.9852755  0.98163854\n",
                        " 0.96343906 0.96201078 0.96756192]\n",
                        "Weight to be added:   [0.09433574 0.00409126 0.0351287  0.06621292 0.00331666 0.06384448\n",
                        " 0.24900802 0.01393571 0.0735243  0.0081198  0.01450769 0.01802431\n",
                        " 0.03522424 0.03654604 0.03138585]\n"
                    ]
                },
                {
                    "data": {
                        "application/javascript": "\n        if (window._pyforest_update_imports_cell) { window._pyforest_update_imports_cell('import numpy as np\\nimport matplotlib.pyplot as plt\\nimport os\\nimport pandas as pd'); }\n    ",
                        "text/plain": [
                            "<IPython.core.display.Javascript object>"
                        ]
                    },
                    "metadata": {},
                    "output_type": "display_data"
                }
            ],
            "source": [
                "pos_weights = n\n",
                "neg_weights = p\n",
                "pos_contribution = p * pos_weights\n",
                "neg_contribution = n * neg_weights\n",
                "print(p)\n",
                "print(n)\n",
                "\n",
                "print(\"Weight to be added:  \",pos_contribution)"
            ]
        },
        {
            "cell_type": "code",
            "execution_count": 13,
            "metadata": {},
            "outputs": [
                {
                    "data": {
                        "application/javascript": "\n        if (window._pyforest_update_imports_cell) { window._pyforest_update_imports_cell('import numpy as np\\nimport matplotlib.pyplot as plt\\nimport os\\nimport pandas as pd'); }\n    ",
                        "text/plain": [
                            "<IPython.core.display.Javascript object>"
                        ]
                    },
                    "metadata": {},
                    "output_type": "display_data"
                },
                {
                    "data": {
                        "application/javascript": "\n        if (window._pyforest_update_imports_cell) { window._pyforest_update_imports_cell('import numpy as np\\nimport matplotlib.pyplot as plt\\nimport os\\nimport pandas as pd'); }\n    ",
                        "text/plain": [
                            "<IPython.core.display.Javascript object>"
                        ]
                    },
                    "metadata": {},
                    "output_type": "display_data"
                },
                {
                    "data": {
                        "application/javascript": "\n        if (window._pyforest_update_imports_cell) { window._pyforest_update_imports_cell('import numpy as np\\nimport matplotlib.pyplot as plt\\nimport os\\nimport pandas as pd'); }\n    ",
                        "text/plain": [
                            "<IPython.core.display.Javascript object>"
                        ]
                    },
                    "metadata": {},
                    "output_type": "display_data"
                },
                {
                    "data": {
                        "image/png": "[encoded data removed]",
                        "text/plain": [
                            "<Figure size 432x288 with 1 Axes>"
                        ]
                    },
                    "metadata": {},
                    "output_type": "display_data"
                },
                {
                    "data": {
                        "application/javascript": "\n        if (window._pyforest_update_imports_cell) { window._pyforest_update_imports_cell('import numpy as np\\nimport matplotlib.pyplot as plt\\nimport os\\nimport pandas as pd'); }\n    ",
                        "text/plain": [
                            "<IPython.core.display.Javascript object>"
                        ]
                    },
                    "metadata": {},
                    "output_type": "display_data"
                }
            ],
            "source": [
                "data = pd.DataFrame({\"Class\": df1.columns, \"Label\": \"Positive\", \"Value\": pos_contribution})\n",
                "data = data.append([{\"Class\": df1.columns[l], \"Label\": \"Negative\", \"Value\": v} for l, v in enumerate(neg_contribution)], ignore_index=True)\n",
                "plt.xticks(rotation=90)\n",
                "g = sns.barplot(x=\"Class\", y=\"Value\",hue=\"Label\", data=data)"
            ]
        },
        {
            "cell_type": "code",
            "execution_count": 14,
            "metadata": {},
            "outputs": [
                {
                    "data": {
                        "application/javascript": "\n        if (window._pyforest_update_imports_cell) { window._pyforest_update_imports_cell('import numpy as np\\nimport matplotlib.pyplot as plt\\nimport os\\nimport pandas as pd'); }\n    ",
                        "text/plain": [
                            "<IPython.core.display.Javascript object>"
                        ]
                    },
                    "metadata": {},
                    "output_type": "display_data"
                },
                {
                    "data": {
                        "application/javascript": "\n        if (window._pyforest_update_imports_cell) { window._pyforest_update_imports_cell('import numpy as np\\nimport matplotlib.pyplot as plt\\nimport os\\nimport pandas as pd'); }\n    ",
                        "text/plain": [
                            "<IPython.core.display.Javascript object>"
                        ]
                    },
                    "metadata": {},
                    "output_type": "display_data"
                }
            ],
            "source": [
                "from sklearn.model_selection import train_test_split\n",
                "\n",
                "X, y = df.imagepath, df.class_id\n",
                "X_train, X_test, y_train, y_test = train_test_split(X, y, test_size=0.2, random_state=42)"
            ]
        },
        {
            "cell_type": "code",
            "execution_count": 15,
            "metadata": {},
            "outputs": [
                {
                    "data": {
                        "application/javascript": "\n        if (window._pyforest_update_imports_cell) { window._pyforest_update_imports_cell('import numpy as np\\nimport matplotlib.pyplot as plt\\nimport os\\nimport pandas as pd'); }\n    ",
                        "text/plain": [
                            "<IPython.core.display.Javascript object>"
                        ]
                    },
                    "metadata": {},
                    "output_type": "display_data"
                },
                {
                    "data": {
                        "application/javascript": "\n        if (window._pyforest_update_imports_cell) { window._pyforest_update_imports_cell('import numpy as np\\nimport matplotlib.pyplot as plt\\nimport os\\nimport pandas as pd'); }\n    ",
                        "text/plain": [
                            "<IPython.core.display.Javascript object>"
                        ]
                    },
                    "metadata": {},
                    "output_type": "display_data"
                },
                {
                    "name": "stdout",
                    "output_type": "stream",
                    "text": [
                        "Numbers of train instances by class: [ 5805   223   764  4361   453   805  1003  2006  2026  1763  1963  3918\n",
                        "   180  3704 25357]\n"
                    ]
                },
                {
                    "data": {
                        "application/javascript": "\n        if (window._pyforest_update_imports_cell) { window._pyforest_update_imports_cell('import numpy as np\\nimport matplotlib.pyplot as plt\\nimport os\\nimport pandas as pd'); }\n    ",
                        "text/plain": [
                            "<IPython.core.display.Javascript object>"
                        ]
                    },
                    "metadata": {},
                    "output_type": "display_data"
                },
                {
                    "name": "stdout",
                    "output_type": "stream",
                    "text": [
                        "Numbers of test instances by class: [1357   56  196 1066  103  195  244  477  554  440  513  924   46  951\n",
                        " 6461]\n"
                    ]
                },
                {
                    "data": {
                        "application/javascript": "\n        if (window._pyforest_update_imports_cell) { window._pyforest_update_imports_cell('import numpy as np\\nimport matplotlib.pyplot as plt\\nimport os\\nimport pandas as pd'); }\n    ",
                        "text/plain": [
                            "<IPython.core.display.Javascript object>"
                        ]
                    },
                    "metadata": {},
                    "output_type": "display_data"
                }
            ],
            "source": [
                "print(f\"Numbers of train instances by class: {np.bincount(y_train)}\")\n",
                "print(f\"Numbers of test instances by class: {np.bincount(y_test)}\")"
            ]
        },
        {
            "cell_type": "code",
            "execution_count": 16,
            "metadata": {},
            "outputs": [
                {
                    "data": {
                        "application/javascript": "\n        if (window._pyforest_update_imports_cell) { window._pyforest_update_imports_cell('import numpy as np\\nimport matplotlib.pyplot as plt\\nimport os\\nimport pandas as pd'); }\n    ",
                        "text/plain": [
                            "<IPython.core.display.Javascript object>"
                        ]
                    },
                    "metadata": {},
                    "output_type": "display_data"
                },
                {
                    "data": {
                        "application/javascript": "\n        if (window._pyforest_update_imports_cell) { window._pyforest_update_imports_cell('import numpy as np\\nimport matplotlib.pyplot as plt\\nimport os\\nimport pandas as pd'); }\n    ",
                        "text/plain": [
                            "<IPython.core.display.Javascript object>"
                        ]
                    },
                    "metadata": {},
                    "output_type": "display_data"
                },
                {
                    "data": {
                        "text/plain": [
                            "Text(0.5, 1.0, 'Train set')"
                        ]
                    },
                    "execution_count": 16,
                    "metadata": {},
                    "output_type": "execute_result"
                },
                {
                    "data": {
                        "image/png": "[encoded data removed]",
                        "text/plain": [
                            "<Figure size 1080x360 with 2 Axes>"
                        ]
                    },
                    "metadata": {},
                    "output_type": "display_data"
                },
                {
                    "data": {
                        "application/javascript": "\n        if (window._pyforest_update_imports_cell) { window._pyforest_update_imports_cell('import numpy as np\\nimport matplotlib.pyplot as plt\\nimport os\\nimport pandas as pd'); }\n    ",
                        "text/plain": [
                            "<IPython.core.display.Javascript object>"
                        ]
                    },
                    "metadata": {},
                    "output_type": "display_data"
                }
            ],
            "source": [
                "f, (ax1, ax2) = plt.subplots(1, 2, figsize=(15, 5))\n",
                "ax1.tick_params(axis='x', labelrotation=90)\n",
                "ax2.tick_params(axis='x', labelrotation=90)\n",
                "g1 = sns.histplot(x=(list(map(lambda y_train: disease[y_train], y_train))), ax=ax1 )\n",
                "g2= sns.histplot(x=(list(map(lambda y_test: disease[y_test], y_test))), ax=ax2, )\n",
                "g2.set_title(\"Test set\")\n",
                "g1.set_title(\"Train set\")"
            ]
        },
        {
            "cell_type": "code",
            "execution_count": 17,
            "metadata": {},
            "outputs": [
                {
                    "data": {
                        "application/javascript": "\n        if (window._pyforest_update_imports_cell) { window._pyforest_update_imports_cell('import numpy as np\\nimport matplotlib.pyplot as plt\\nimport os\\nimport pandas as pd'); }\n    ",
                        "text/plain": [
                            "<IPython.core.display.Javascript object>"
                        ]
                    },
                    "metadata": {},
                    "output_type": "display_data"
                },
                {
                    "data": {
                        "application/javascript": "\n        if (window._pyforest_update_imports_cell) { window._pyforest_update_imports_cell('import numpy as np\\nimport matplotlib.pyplot as plt\\nimport os\\nimport pandas as pd'); }\n    ",
                        "text/plain": [
                            "<IPython.core.display.Javascript object>"
                        ]
                    },
                    "metadata": {},
                    "output_type": "display_data"
                }
            ],
            "source": [
                "X_train, X_test, y_train, y_test = train_test_split(X, y, test_size=0.2, random_state=42, stratify=y)"
            ]
        },
        {
            "cell_type": "code",
            "execution_count": 18,
            "metadata": {},
            "outputs": [
                {
                    "data": {
                        "application/javascript": "\n        if (window._pyforest_update_imports_cell) { window._pyforest_update_imports_cell('import numpy as np\\nimport matplotlib.pyplot as plt\\nimport os\\nimport pandas as pd'); }\n    ",
                        "text/plain": [
                            "<IPython.core.display.Javascript object>"
                        ]
                    },
                    "metadata": {},
                    "output_type": "display_data"
                },
                {
                    "name": "stdout",
                    "output_type": "stream",
                    "text": [
                        "67914\n"
                    ]
                },
                {
                    "data": {
                        "application/javascript": "\n        if (window._pyforest_update_imports_cell) { window._pyforest_update_imports_cell('import numpy as np\\nimport matplotlib.pyplot as plt\\nimport os\\nimport pandas as pd'); }\n    ",
                        "text/plain": [
                            "<IPython.core.display.Javascript object>"
                        ]
                    },
                    "metadata": {},
                    "output_type": "display_data"
                }
            ],
            "source": [
                "print(len(df))"
            ]
        },
        {
            "cell_type": "code",
            "execution_count": 19,
            "metadata": {},
            "outputs": [
                {
                    "data": {
                        "application/javascript": "\n        if (window._pyforest_update_imports_cell) { window._pyforest_update_imports_cell('import numpy as np\\nimport matplotlib.pyplot as plt\\nimport os\\nimport pandas as pd'); }\n    ",
                        "text/plain": [
                            "<IPython.core.display.Javascript object>"
                        ]
                    },
                    "metadata": {},
                    "output_type": "display_data"
                },
                {
                    "name": "stdout",
                    "output_type": "stream",
                    "text": [
                        "4527.6\n"
                    ]
                },
                {
                    "data": {
                        "application/javascript": "\n        if (window._pyforest_update_imports_cell) { window._pyforest_update_imports_cell('import numpy as np\\nimport matplotlib.pyplot as plt\\nimport os\\nimport pandas as pd'); }\n    ",
                        "text/plain": [
                            "<IPython.core.display.Javascript object>"
                        ]
                    },
                    "metadata": {},
                    "output_type": "display_data"
                }
            ],
            "source": [
                "print(len(df)/len(df.class_id.unique()))"
            ]
        },
        {
            "cell_type": "code",
            "execution_count": 20,
            "metadata": {},
            "outputs": [
                {
                    "data": {
                        "application/javascript": "\n        if (window._pyforest_update_imports_cell) { window._pyforest_update_imports_cell('import numpy as np\\nimport matplotlib.pyplot as plt\\nimport os\\nimport pandas as pd'); }\n    ",
                        "text/plain": [
                            "<IPython.core.display.Javascript object>"
                        ]
                    },
                    "metadata": {},
                    "output_type": "display_data"
                },
                {
                    "data": {
                        "application/javascript": "\n        if (window._pyforest_update_imports_cell) { window._pyforest_update_imports_cell('import numpy as np\\nimport matplotlib.pyplot as plt\\nimport os\\nimport pandas as pd'); }\n    ",
                        "text/plain": [
                            "<IPython.core.display.Javascript object>"
                        ]
                    },
                    "metadata": {},
                    "output_type": "display_data"
                }
            ],
            "source": [
                "proposed_split = (len(df)*0.20)"
            ]
        },
        {
            "cell_type": "code",
            "execution_count": 21,
            "metadata": {},
            "outputs": [
                {
                    "data": {
                        "application/javascript": "\n        if (window._pyforest_update_imports_cell) { window._pyforest_update_imports_cell('import numpy as np\\nimport matplotlib.pyplot as plt\\nimport os\\nimport pandas as pd'); }\n    ",
                        "text/plain": [
                            "<IPython.core.display.Javascript object>"
                        ]
                    },
                    "metadata": {},
                    "output_type": "display_data"
                },
                {
                    "data": {
                        "text/plain": [
                            "905.5200000000001"
                        ]
                    },
                    "execution_count": 21,
                    "metadata": {},
                    "output_type": "execute_result"
                },
                {
                    "data": {
                        "application/javascript": "\n        if (window._pyforest_update_imports_cell) { window._pyforest_update_imports_cell('import numpy as np\\nimport matplotlib.pyplot as plt\\nimport os\\nimport pandas as pd'); }\n    ",
                        "text/plain": [
                            "<IPython.core.display.Javascript object>"
                        ]
                    },
                    "metadata": {},
                    "output_type": "display_data"
                }
            ],
            "source": [
                "proposed_split / len(df.class_id.unique())"
            ]
        },
        {
            "cell_type": "code",
            "execution_count": 22,
            "metadata": {},
            "outputs": [
                {
                    "data": {
                        "application/javascript": "\n        if (window._pyforest_update_imports_cell) { window._pyforest_update_imports_cell('import numpy as np\\nimport matplotlib.pyplot as plt\\nimport os\\nimport pandas as pd'); }\n    ",
                        "text/plain": [
                            "<IPython.core.display.Javascript object>"
                        ]
                    },
                    "metadata": {},
                    "output_type": "display_data"
                },
                {
                    "name": "stdout",
                    "output_type": "stream",
                    "text": [
                        "15\n"
                    ]
                },
                {
                    "data": {
                        "application/javascript": "\n        if (window._pyforest_update_imports_cell) { window._pyforest_update_imports_cell('import numpy as np\\nimport matplotlib.pyplot as plt\\nimport os\\nimport pandas as pd'); }\n    ",
                        "text/plain": [
                            "<IPython.core.display.Javascript object>"
                        ]
                    },
                    "metadata": {},
                    "output_type": "display_data"
                }
            ],
            "source": [
                "print(len(df.class_id.unique()))"
            ]
        },
        {
            "cell_type": "code",
            "execution_count": 23,
            "metadata": {},
            "outputs": [
                {
                    "data": {
                        "application/javascript": "\n        if (window._pyforest_update_imports_cell) { window._pyforest_update_imports_cell('import numpy as np\\nimport matplotlib.pyplot as plt\\nimport os\\nimport pandas as pd'); }\n    ",
                        "text/plain": [
                            "<IPython.core.display.Javascript object>"
                        ]
                    },
                    "metadata": {},
                    "output_type": "display_data"
                },
                {
                    "data": {
                        "application/javascript": "\n        if (window._pyforest_update_imports_cell) { window._pyforest_update_imports_cell('import numpy as np\\nimport matplotlib.pyplot as plt\\nimport os\\nimport pandas as pd'); }\n    ",
                        "text/plain": [
                            "<IPython.core.display.Javascript object>"
                        ]
                    },
                    "metadata": {},
                    "output_type": "display_data"
                }
            ],
            "source": [
                "def prepare_class_split(dataframe, target=\"class_name\", p_split=0.30, test_target_split=0.50, verbose=False, helpers=\"dataframe\"):\n",
                "  dataframe = dataframe.copy()\n",
                "  df_len = len(dataframe)\n",
                "  class_amount = len(dataframe[target].unique())\n",
                "  df_split = int(df_len * p_split)\n",
                "  class_list = list(dataframe[target].unique())\n",
                "  \n",
                "  proposed_split = df_split/class_amount\n",
                "  \n",
                "  class_counts = dataframe[target].value_counts()\n",
                "  # print(df_len,df_split,proposed_split,class_counts)\n",
                "  \n",
                "  outcomes = []\n",
                "  total = []\n",
                "  \n",
                "  print(\"Total of Test Split is {} and Proposed split is {}\".format(df_split,proposed_split))\n",
                "  \n",
                "  \n",
                "  for lable in class_list:\n",
                "    print('-----------------------------------------------------' + '\\n')\n",
                "    percent_split = class_counts[lable] / df_len\n",
                "    proposed_percent_split = class_counts[lable] / df_split\n",
                "    total.append(class_counts[lable])\n",
                "    if class_counts[lable] >= proposed_split * 2:\n",
                "      if verbose == True:\n",
                "        print(f\"Class {lable} has {class_counts[lable]} instances, which is greater than the proposed split of {proposed_split}\")\n",
                "        print(f\"Class {lable} has {percent_split} of the total data, which is greater than the proposed split of {proposed_percent_split}\")\n",
                "        print(\"Class {} is OK!!\".format(lable))\n",
                "      outcomes.append(\"OK!!\")\n",
                "       \n",
                "      \n",
                "    elif class_counts[lable] < proposed_split * 2 and class_counts[lable] > proposed_split:\n",
                "      if verbose == True:\n",
                "        print(\"Class {} fails equity threshold, look to augment training dataset \".format(lable))\n",
                "      outcomes.append(\"Augment??\")\n",
                "    elif class_counts[lable] < proposed_split:\n",
                "      if verbose == True:\n",
                "        print(\"Class {} fails equity threshold, look to remove training dataset \".format(lable))\n",
                "        print(\"Class {} is {} and Proposed split is {}\".format(lable,class_counts[lable],proposed_split))\n",
                "        print(\"Class \" + lable + \" is less than the proposed split\")\n",
                "        print(\"Class {} is {} and the proposed split is {}\".format(lable,class_counts[lable],proposed_split))\n",
                "        print(\"Both augmentation and weights may be necessary!!\")\n",
                "      outcomes.append(\"Weights/Augment/Split!!\")\n",
                "    print('-----------------------------------------------------' + '\\n'+'\\n')\n",
                "  outcomes_df = pd.DataFrame()\n",
                "  outcomes_df[\"Class\"] = class_list\n",
                "  outcomes_df[\"Split\"] = math.floor(proposed_split)\n",
                "  outcomes_df[\"Set_Number\"] = total\n",
                "  outcomes_df[\"Outcome\"] = outcomes\n",
                "  outcomes_df.set_index(\"Class\", inplace=True)\n",
                "  \n",
                "  \n",
                "  # Change dataframe based on outcomes\n",
                "  for i, out in enumerate(outcomes_df.Outcome):\n",
                "    print(i)\n",
                "\n",
                "    if out == \"Augment??\":\n",
                "      outcomes_df.iat[i,0] = outcomes_df.Split[i] * 0.80\n",
                "      # print(outcomes_df.iat[i,1])\n",
                "    elif out == \"Weights/Augment/Split!!\":\n",
                "      outcomes_df.iat[i, 0] = math.floor(outcomes_df.Set_Number[i]*0.50)\n",
                "      # outcomes_df = outcomes_df.append(outcomes_df.at[i,\"Set Number\"] == math.floor(temp/0.5))\n",
                "      # dataframe = dataframe.append(dataframe.loc[dataframe[target] == i])\n",
                "    elif out == \"OK!!\":\n",
                "      pass\n",
                "    else:\n",
                "      print(\"Error\")\n",
                "  \n",
                "  \n",
                "  if helpers == \"dataframe\":\n",
                "    return outcomes_df"
            ]
        },
        {
            "cell_type": "code",
            "execution_count": 24,
            "metadata": {},
            "outputs": [
                {
                    "data": {
                        "application/javascript": "\n        if (window._pyforest_update_imports_cell) { window._pyforest_update_imports_cell('import numpy as np\\nimport matplotlib.pyplot as plt\\nimport os\\nimport pandas as pd'); }\n    ",
                        "text/plain": [
                            "<IPython.core.display.Javascript object>"
                        ]
                    },
                    "metadata": {},
                    "output_type": "display_data"
                },
                {
                    "name": "stdout",
                    "output_type": "stream",
                    "text": [
                        "Total of Test Split is 13582 and Proposed split is 905.4666666666667\n",
                        "-----------------------------------------------------\n",
                        "\n",
                        "Class No finding has 31818 instances, which is greater than the proposed split of 905.4666666666667\n",
                        "Class No finding has 0.46850428483081547 of the total data, which is greater than the proposed split of 2.3426594021499043\n",
                        "Class No finding is OK!!\n",
                        "-----------------------------------------------------\n",
                        "\n",
                        "\n",
                        "-----------------------------------------------------\n",
                        "\n",
                        "Class Cardiomegaly has 5427 instances, which is greater than the proposed split of 905.4666666666667\n",
                        "Class Cardiomegaly has 0.07990988603233501 of the total data, which is greater than the proposed split of 0.3995729642173465\n",
                        "Class Cardiomegaly is OK!!\n",
                        "-----------------------------------------------------\n",
                        "\n",
                        "\n",
                        "-----------------------------------------------------\n",
                        "\n",
                        "Class Aortic enlargement has 7162 instances, which is greater than the proposed split of 905.4666666666667\n",
                        "Class Aortic enlargement has 0.10545690137526872 of the total data, which is greater than the proposed split of 0.5273155647180091\n",
                        "Class Aortic enlargement is OK!!\n",
                        "-----------------------------------------------------\n",
                        "\n",
                        "\n",
                        "-----------------------------------------------------\n",
                        "\n",
                        "Class Pleural thickening has 4842 instances, which is greater than the proposed split of 905.4666666666667\n",
                        "Class Pleural thickening has 0.07129605088788762 of the total data, which is greater than the proposed split of 0.35650125165660435\n",
                        "Class Pleural thickening is OK!!\n",
                        "-----------------------------------------------------\n",
                        "\n",
                        "\n",
                        "-----------------------------------------------------\n",
                        "\n",
                        "Class ILD fails equity threshold, look to augment training dataset \n",
                        "-----------------------------------------------------\n",
                        "\n",
                        "\n",
                        "-----------------------------------------------------\n",
                        "\n",
                        "Class Nodule/Mass has 2580 instances, which is greater than the proposed split of 905.4666666666667\n",
                        "Class Nodule/Mass has 0.03798922166269105 of the total data, which is greater than the proposed split of 0.18995729642173464\n",
                        "Class Nodule/Mass is OK!!\n",
                        "-----------------------------------------------------\n",
                        "\n",
                        "\n",
                        "-----------------------------------------------------\n",
                        "\n",
                        "Class Pulmonary fibrosis has 4655 instances, which is greater than the proposed split of 905.4666666666667\n",
                        "Class Pulmonary fibrosis has 0.06854256854256854 of the total data, which is greater than the proposed split of 0.3427330290089825\n",
                        "Class Pulmonary fibrosis is OK!!\n",
                        "-----------------------------------------------------\n",
                        "\n",
                        "\n",
                        "-----------------------------------------------------\n",
                        "\n",
                        "Class Lung Opacity has 2483 instances, which is greater than the proposed split of 905.4666666666667\n",
                        "Class Lung Opacity has 0.03656094472421003 of the total data, which is greater than the proposed split of 0.18281549109115006\n",
                        "Class Lung Opacity is OK!!\n",
                        "-----------------------------------------------------\n",
                        "\n",
                        "\n",
                        "-----------------------------------------------------\n",
                        "\n",
                        "Class Atelectasis fails equity threshold, look to remove training dataset \n",
                        "Class Atelectasis is 279 and Proposed split is 905.4666666666667\n",
                        "Class Atelectasis is less than the proposed split\n",
                        "Class Atelectasis is 279 and the proposed split is 905.4666666666667\n",
                        "Both augmentation and weights may be necessary!!\n",
                        "-----------------------------------------------------\n",
                        "\n",
                        "\n",
                        "-----------------------------------------------------\n",
                        "\n",
                        "Class Other lesion has 2203 instances, which is greater than the proposed split of 905.4666666666667\n",
                        "Class Other lesion has 0.03243808345849162 of the total data, which is greater than the proposed split of 0.16219997054925636\n",
                        "Class Other lesion is OK!!\n",
                        "-----------------------------------------------------\n",
                        "\n",
                        "\n",
                        "-----------------------------------------------------\n",
                        "\n",
                        "Class Infiltration fails equity threshold, look to augment training dataset \n",
                        "-----------------------------------------------------\n",
                        "\n",
                        "\n",
                        "-----------------------------------------------------\n",
                        "\n",
                        "Class Pleural effusion has 2476 instances, which is greater than the proposed split of 905.4666666666667\n",
                        "Class Pleural effusion has 0.03645787319256707 of the total data, which is greater than the proposed split of 0.18230010307760272\n",
                        "Class Pleural effusion is OK!!\n",
                        "-----------------------------------------------------\n",
                        "\n",
                        "\n",
                        "-----------------------------------------------------\n",
                        "\n",
                        "Class Calcification fails equity threshold, look to augment training dataset \n",
                        "-----------------------------------------------------\n",
                        "\n",
                        "\n",
                        "-----------------------------------------------------\n",
                        "\n",
                        "Class Consolidation fails equity threshold, look to remove training dataset \n",
                        "Class Consolidation is 556 and Proposed split is 905.4666666666667\n",
                        "Class Consolidation is less than the proposed split\n",
                        "Class Consolidation is 556 and the proposed split is 905.4666666666667\n",
                        "Both augmentation and weights may be necessary!!\n",
                        "-----------------------------------------------------\n",
                        "\n",
                        "\n",
                        "-----------------------------------------------------\n",
                        "\n",
                        "Class Pneumothorax fails equity threshold, look to remove training dataset \n",
                        "Class Pneumothorax is 226 and Proposed split is 905.4666666666667\n",
                        "Class Pneumothorax is less than the proposed split\n",
                        "Class Pneumothorax is 226 and the proposed split is 905.4666666666667\n",
                        "Both augmentation and weights may be necessary!!\n",
                        "-----------------------------------------------------\n",
                        "\n",
                        "\n"
                    ]
                },
                {
                    "data": {
                        "application/javascript": "\n        if (window._pyforest_update_imports_cell) { window._pyforest_update_imports_cell('import numpy as np\\nimport matplotlib.pyplot as plt\\nimport os\\nimport pandas as pd'); }\n    ",
                        "text/plain": [
                            "<IPython.core.display.Javascript object>"
                        ]
                    },
                    "metadata": {},
                    "output_type": "display_data"
                },
                {
                    "name": "stdout",
                    "output_type": "stream",
                    "text": [
                        "0\n",
                        "1\n",
                        "2\n",
                        "3\n",
                        "4\n",
                        "5\n",
                        "6\n",
                        "7\n",
                        "8\n",
                        "9\n",
                        "10\n",
                        "11\n",
                        "12\n",
                        "13\n",
                        "14\n"
                    ]
                },
                {
                    "data": {
                        "application/javascript": "\n        if (window._pyforest_update_imports_cell) { window._pyforest_update_imports_cell('import numpy as np\\nimport matplotlib.pyplot as plt\\nimport os\\nimport pandas as pd'); }\n    ",
                        "text/plain": [
                            "<IPython.core.display.Javascript object>"
                        ]
                    },
                    "metadata": {},
                    "output_type": "display_data"
                }
            ],
            "source": [
                "test = prepare_class_split(df, target=\"class_name\", p_split=0.20, test_target_split=0.50, verbose=True, helpers=\"dataframe\")\n",
                "df['class'] = df['class_id'].apply(lambda x:disease[x])"
            ]
        },
        {
            "cell_type": "code",
            "execution_count": 25,
            "metadata": {},
            "outputs": [
                {
                    "data": {
                        "application/javascript": "\n        if (window._pyforest_update_imports_cell) { window._pyforest_update_imports_cell('import numpy as np\\nimport matplotlib.pyplot as plt\\nimport os\\nimport pandas as pd'); }\n    ",
                        "text/plain": [
                            "<IPython.core.display.Javascript object>"
                        ]
                    },
                    "metadata": {},
                    "output_type": "display_data"
                },
                {
                    "data": {
                        "application/javascript": "\n        if (window._pyforest_update_imports_cell) { window._pyforest_update_imports_cell('import numpy as np\\nimport matplotlib.pyplot as plt\\nimport os\\nimport pandas as pd'); }\n    ",
                        "text/plain": [
                            "<IPython.core.display.Javascript object>"
                        ]
                    },
                    "metadata": {},
                    "output_type": "display_data"
                }
            ],
            "source": [
                "def custom_split(dataframe1,dataframe2):\n",
                "  dataframe2 = dataframe2.copy(deep=True)\n",
                "  dataframe3 = dataframe2.copy(deep=True)\n",
                "  dataframe2 = dataframe2.sample(frac=1)\n",
                "  \n",
                "  \n",
                "  test_idx = []\n",
                "  temp = list(dataframe1.index)\n",
                "  print(temp)\n",
                "  for i, class_ in enumerate(temp):\n",
                "    total = dataframe1.iat[i, 0]\n",
                "    print(total)\n",
                "    for index, row in dataframe2.iterrows():\n",
                "      if row[\"class_name\"] == class_ and total > 0 :\n",
                "        total -= 1\n",
                "        test_idx.append(index)\n",
                "        dataframe2.drop(index, inplace=True)\n",
                "        \n",
                "        # print(\"drop\")\n",
                "    print(\"Finished \", class_)\n",
                "    \n",
                "  print(len(dataframe2))\n",
                "  \n",
                "  dataframe3 = dataframe3.loc[dataframe3.index[test_idx]]\n",
                "  dataframe2 = dataframe2.sample(frac=1)\n",
                "  dataframe3 = dataframe3.sample(frac=1)\n",
                "  print(len(dataframe3))\n",
                "  return dataframe2, dataframe3"
            ]
        },
        {
            "cell_type": "code",
            "execution_count": 26,
            "metadata": {},
            "outputs": [
                {
                    "data": {
                        "application/javascript": "\n        if (window._pyforest_update_imports_cell) { window._pyforest_update_imports_cell('import numpy as np\\nimport matplotlib.pyplot as plt\\nimport os\\nimport pandas as pd'); }\n    ",
                        "text/plain": [
                            "<IPython.core.display.Javascript object>"
                        ]
                    },
                    "metadata": {},
                    "output_type": "display_data"
                },
                {
                    "name": "stdout",
                    "output_type": "stream",
                    "text": [
                        "['No finding', 'Cardiomegaly', 'Aortic enlargement', 'Pleural thickening', 'ILD', 'Nodule/Mass', 'Pulmonary fibrosis', 'Lung Opacity', 'Atelectasis', 'Other lesion', 'Infiltration', 'Pleural effusion', 'Calcification', 'Consolidation', 'Pneumothorax']\n",
                        "905\n",
                        "Finished  No finding\n",
                        "905\n",
                        "Finished  Cardiomegaly\n",
                        "905\n",
                        "Finished  Aortic enlargement\n",
                        "905\n",
                        "Finished  Pleural thickening\n",
                        "724\n",
                        "Finished  ILD\n",
                        "905\n",
                        "Finished  Nodule/Mass\n",
                        "905\n",
                        "Finished  Pulmonary fibrosis\n",
                        "905\n",
                        "Finished  Lung Opacity\n",
                        "139\n",
                        "Finished  Atelectasis\n",
                        "905\n",
                        "Finished  Other lesion\n",
                        "724\n",
                        "Finished  Infiltration\n",
                        "905\n",
                        "Finished  Pleural effusion\n",
                        "724\n",
                        "Finished  Calcification\n",
                        "278\n",
                        "Finished  Consolidation\n",
                        "113\n",
                        "Finished  Pneumothorax\n",
                        "57067\n",
                        "10847\n"
                    ]
                },
                {
                    "data": {
                        "application/javascript": "\n        if (window._pyforest_update_imports_cell) { window._pyforest_update_imports_cell('import numpy as np\\nimport matplotlib.pyplot as plt\\nimport os\\nimport pandas as pd'); }\n    ",
                        "text/plain": [
                            "<IPython.core.display.Javascript object>"
                        ]
                    },
                    "metadata": {},
                    "output_type": "display_data"
                }
            ],
            "source": [
                "train_df, test_df= custom_split(test, df)"
            ]
        },
        {
            "cell_type": "code",
            "execution_count": 27,
            "metadata": {},
            "outputs": [
                {
                    "data": {
                        "application/javascript": "\n        if (window._pyforest_update_imports_cell) { window._pyforest_update_imports_cell('import numpy as np\\nimport matplotlib.pyplot as plt\\nimport os\\nimport pandas as pd'); }\n    ",
                        "text/plain": [
                            "<IPython.core.display.Javascript object>"
                        ]
                    },
                    "metadata": {},
                    "output_type": "display_data"
                },
                {
                    "data": {
                        "text/html": [
                            "<div>\n",
                            "<style scoped>\n",
                            "    .dataframe tbody tr th:only-of-type {\n",
                            "        vertical-align: middle;\n",
                            "    }\n",
                            "\n",
                            "    .dataframe tbody tr th {\n",
                            "        vertical-align: top;\n",
                            "    }\n",
                            "\n",
                            "    .dataframe thead th {\n",
                            "        text-align: right;\n",
                            "    }\n",
                            "</style>\n",
                            "<table border=\"1\" class=\"dataframe\">\n",
                            "  <thead>\n",
                            "    <tr style=\"text-align: right;\">\n",
                            "      <th></th>\n",
                            "      <th>class_name</th>\n",
                            "      <th>class_id</th>\n",
                            "      <th>imagepath</th>\n",
                            "      <th>class</th>\n",
                            "    </tr>\n",
                            "  </thead>\n",
                            "  <tbody>\n",
                            "    <tr>\n",
                            "      <th>25473</th>\n",
                            "      <td>No finding</td>\n",
                            "      <td>14</td>\n",
                            "      <td>/media/gyasis/Drive 2/Data/vinbigdata/train/70...</td>\n",
                            "      <td>No_finding</td>\n",
                            "    </tr>\n",
                            "    <tr>\n",
                            "      <th>38910</th>\n",
                            "      <td>No finding</td>\n",
                            "      <td>14</td>\n",
                            "      <td>/media/gyasis/Drive 2/Data/vinbigdata/train/46...</td>\n",
                            "      <td>No_finding</td>\n",
                            "    </tr>\n",
                            "    <tr>\n",
                            "      <th>34413</th>\n",
                            "      <td>No finding</td>\n",
                            "      <td>14</td>\n",
                            "      <td>/media/gyasis/Drive 2/Data/vinbigdata/train/63...</td>\n",
                            "      <td>No_finding</td>\n",
                            "    </tr>\n",
                            "    <tr>\n",
                            "      <th>61409</th>\n",
                            "      <td>Pleural effusion</td>\n",
                            "      <td>10</td>\n",
                            "      <td>/media/gyasis/Drive 2/Data/vinbigdata/train/bf...</td>\n",
                            "      <td>Pleural effusion</td>\n",
                            "    </tr>\n",
                            "    <tr>\n",
                            "      <th>52312</th>\n",
                            "      <td>Infiltration</td>\n",
                            "      <td>6</td>\n",
                            "      <td>/media/gyasis/Drive 2/Data/vinbigdata/train/d9...</td>\n",
                            "      <td>Infiltration</td>\n",
                            "    </tr>\n",
                            "  </tbody>\n",
                            "</table>\n",
                            "</div>"
                        ],
                        "text/plain": [
                            "             class_name  class_id  \\\n",
                            "25473        No finding        14   \n",
                            "38910        No finding        14   \n",
                            "34413        No finding        14   \n",
                            "61409  Pleural effusion        10   \n",
                            "52312      Infiltration         6   \n",
                            "\n",
                            "                                               imagepath             class  \n",
                            "25473  /media/gyasis/Drive 2/Data/vinbigdata/train/70...        No_finding  \n",
                            "38910  /media/gyasis/Drive 2/Data/vinbigdata/train/46...        No_finding  \n",
                            "34413  /media/gyasis/Drive 2/Data/vinbigdata/train/63...        No_finding  \n",
                            "61409  /media/gyasis/Drive 2/Data/vinbigdata/train/bf...  Pleural effusion  \n",
                            "52312  /media/gyasis/Drive 2/Data/vinbigdata/train/d9...      Infiltration  "
                        ]
                    },
                    "execution_count": 27,
                    "metadata": {},
                    "output_type": "execute_result"
                },
                {
                    "data": {
                        "application/javascript": "\n        if (window._pyforest_update_imports_cell) { window._pyforest_update_imports_cell('import numpy as np\\nimport matplotlib.pyplot as plt\\nimport os\\nimport pandas as pd'); }\n    ",
                        "text/plain": [
                            "<IPython.core.display.Javascript object>"
                        ]
                    },
                    "metadata": {},
                    "output_type": "display_data"
                }
            ],
            "source": [
                "train_df.head()"
            ]
        },
        {
            "cell_type": "code",
            "execution_count": 28,
            "metadata": {},
            "outputs": [
                {
                    "data": {
                        "application/javascript": "\n        if (window._pyforest_update_imports_cell) { window._pyforest_update_imports_cell('import numpy as np\\nimport matplotlib.pyplot as plt\\nimport os\\nimport pandas as pd'); }\n    ",
                        "text/plain": [
                            "<IPython.core.display.Javascript object>"
                        ]
                    },
                    "metadata": {},
                    "output_type": "display_data"
                },
                {
                    "data": {
                        "text/plain": [
                            "No finding            30913\n",
                            "Aortic enlargement     6257\n",
                            "Cardiomegaly           4522\n",
                            "Pleural thickening     3937\n",
                            "Pulmonary fibrosis     3750\n",
                            "Nodule/Mass            1675\n",
                            "Lung Opacity           1578\n",
                            "Pleural effusion       1571\n",
                            "Other lesion           1298\n",
                            "Infiltration            523\n",
                            "Consolidation           278\n",
                            "ILD                     276\n",
                            "Calcification           236\n",
                            "Atelectasis             140\n",
                            "Pneumothorax            113\n",
                            "Name: class_name, dtype: int64"
                        ]
                    },
                    "execution_count": 28,
                    "metadata": {},
                    "output_type": "execute_result"
                },
                {
                    "data": {
                        "application/javascript": "\n        if (window._pyforest_update_imports_cell) { window._pyforest_update_imports_cell('import numpy as np\\nimport matplotlib.pyplot as plt\\nimport os\\nimport pandas as pd'); }\n    ",
                        "text/plain": [
                            "<IPython.core.display.Javascript object>"
                        ]
                    },
                    "metadata": {},
                    "output_type": "display_data"
                }
            ],
            "source": [
                "train_df[\"class_name\"].value_counts()"
            ]
        },
        {
            "cell_type": "code",
            "execution_count": 29,
            "metadata": {},
            "outputs": [
                {
                    "data": {
                        "application/javascript": "\n        if (window._pyforest_update_imports_cell) { window._pyforest_update_imports_cell('import numpy as np\\nimport matplotlib.pyplot as plt\\nimport os\\nimport pandas as pd'); }\n    ",
                        "text/plain": [
                            "<IPython.core.display.Javascript object>"
                        ]
                    },
                    "metadata": {},
                    "output_type": "display_data"
                },
                {
                    "data": {
                        "text/html": [
                            "<div>\n",
                            "<style scoped>\n",
                            "    .dataframe tbody tr th:only-of-type {\n",
                            "        vertical-align: middle;\n",
                            "    }\n",
                            "\n",
                            "    .dataframe tbody tr th {\n",
                            "        vertical-align: top;\n",
                            "    }\n",
                            "\n",
                            "    .dataframe thead th {\n",
                            "        text-align: right;\n",
                            "    }\n",
                            "</style>\n",
                            "<table border=\"1\" class=\"dataframe\">\n",
                            "  <thead>\n",
                            "    <tr style=\"text-align: right;\">\n",
                            "      <th></th>\n",
                            "      <th>class_name</th>\n",
                            "      <th>class_id</th>\n",
                            "      <th>imagepath</th>\n",
                            "      <th>class</th>\n",
                            "    </tr>\n",
                            "  </thead>\n",
                            "  <tbody>\n",
                            "    <tr>\n",
                            "      <th>29261</th>\n",
                            "      <td>No finding</td>\n",
                            "      <td>14</td>\n",
                            "      <td>/media/gyasis/Drive 2/Data/vinbigdata/train/03...</td>\n",
                            "      <td>No_finding</td>\n",
                            "    </tr>\n",
                            "    <tr>\n",
                            "      <th>18245</th>\n",
                            "      <td>Other lesion</td>\n",
                            "      <td>9</td>\n",
                            "      <td>/media/gyasis/Drive 2/Data/vinbigdata/train/da...</td>\n",
                            "      <td>Other lesion</td>\n",
                            "    </tr>\n",
                            "    <tr>\n",
                            "      <th>64472</th>\n",
                            "      <td>No finding</td>\n",
                            "      <td>14</td>\n",
                            "      <td>/media/gyasis/Drive 2/Data/vinbigdata/train/63...</td>\n",
                            "      <td>No_finding</td>\n",
                            "    </tr>\n",
                            "    <tr>\n",
                            "      <th>22349</th>\n",
                            "      <td>No finding</td>\n",
                            "      <td>14</td>\n",
                            "      <td>/media/gyasis/Drive 2/Data/vinbigdata/train/72...</td>\n",
                            "      <td>No_finding</td>\n",
                            "    </tr>\n",
                            "    <tr>\n",
                            "      <th>7595</th>\n",
                            "      <td>Pulmonary fibrosis</td>\n",
                            "      <td>13</td>\n",
                            "      <td>/media/gyasis/Drive 2/Data/vinbigdata/train/1a...</td>\n",
                            "      <td>Pulmonary fibrosis</td>\n",
                            "    </tr>\n",
                            "  </tbody>\n",
                            "</table>\n",
                            "</div>"
                        ],
                        "text/plain": [
                            "               class_name  class_id  \\\n",
                            "29261          No finding        14   \n",
                            "18245        Other lesion         9   \n",
                            "64472          No finding        14   \n",
                            "22349          No finding        14   \n",
                            "7595   Pulmonary fibrosis        13   \n",
                            "\n",
                            "                                               imagepath               class  \n",
                            "29261  /media/gyasis/Drive 2/Data/vinbigdata/train/03...          No_finding  \n",
                            "18245  /media/gyasis/Drive 2/Data/vinbigdata/train/da...        Other lesion  \n",
                            "64472  /media/gyasis/Drive 2/Data/vinbigdata/train/63...          No_finding  \n",
                            "22349  /media/gyasis/Drive 2/Data/vinbigdata/train/72...          No_finding  \n",
                            "7595   /media/gyasis/Drive 2/Data/vinbigdata/train/1a...  Pulmonary fibrosis  "
                        ]
                    },
                    "execution_count": 29,
                    "metadata": {},
                    "output_type": "execute_result"
                },
                {
                    "data": {
                        "application/javascript": "\n        if (window._pyforest_update_imports_cell) { window._pyforest_update_imports_cell('import numpy as np\\nimport matplotlib.pyplot as plt\\nimport os\\nimport pandas as pd'); }\n    ",
                        "text/plain": [
                            "<IPython.core.display.Javascript object>"
                        ]
                    },
                    "metadata": {},
                    "output_type": "display_data"
                }
            ],
            "source": [
                "test_df.head()"
            ]
        },
        {
            "cell_type": "code",
            "execution_count": 30,
            "metadata": {},
            "outputs": [
                {
                    "data": {
                        "application/javascript": "\n        if (window._pyforest_update_imports_cell) { window._pyforest_update_imports_cell('import numpy as np\\nimport matplotlib.pyplot as plt\\nimport os\\nimport pandas as pd'); }\n    ",
                        "text/plain": [
                            "<IPython.core.display.Javascript object>"
                        ]
                    },
                    "metadata": {},
                    "output_type": "display_data"
                },
                {
                    "data": {
                        "text/plain": [
                            "Pleural effusion      905\n",
                            "No finding            905\n",
                            "Aortic enlargement    905\n",
                            "Other lesion          905\n",
                            "Pleural thickening    905\n",
                            "Cardiomegaly          905\n",
                            "Pulmonary fibrosis    905\n",
                            "Nodule/Mass           905\n",
                            "Lung Opacity          905\n",
                            "Infiltration          724\n",
                            "ILD                   724\n",
                            "Calcification         724\n",
                            "Consolidation         278\n",
                            "Atelectasis           139\n",
                            "Pneumothorax          113\n",
                            "Name: class_name, dtype: int64"
                        ]
                    },
                    "execution_count": 30,
                    "metadata": {},
                    "output_type": "execute_result"
                },
                {
                    "data": {
                        "application/javascript": "\n        if (window._pyforest_update_imports_cell) { window._pyforest_update_imports_cell('import numpy as np\\nimport matplotlib.pyplot as plt\\nimport os\\nimport pandas as pd'); }\n    ",
                        "text/plain": [
                            "<IPython.core.display.Javascript object>"
                        ]
                    },
                    "metadata": {},
                    "output_type": "display_data"
                }
            ],
            "source": [
                "test_df[\"class_name\"].value_counts()"
            ]
        },
        {
            "cell_type": "code",
            "execution_count": 31,
            "metadata": {},
            "outputs": [
                {
                    "data": {
                        "application/javascript": "\n        if (window._pyforest_update_imports_cell) { window._pyforest_update_imports_cell('import numpy as np\\nimport matplotlib.pyplot as plt\\nimport os\\nimport pandas as pd'); }\n    ",
                        "text/plain": [
                            "<IPython.core.display.Javascript object>"
                        ]
                    },
                    "metadata": {},
                    "output_type": "display_data"
                },
                {
                    "data": {
                        "application/javascript": "\n        if (window._pyforest_update_imports_cell) { window._pyforest_update_imports_cell('import numpy as np\\nimport matplotlib.pyplot as plt\\nimport os\\nimport pandas as pd'); }\n    ",
                        "text/plain": [
                            "<IPython.core.display.Javascript object>"
                        ]
                    },
                    "metadata": {},
                    "output_type": "display_data"
                },
                {
                    "data": {
                        "application/javascript": "\n        if (window._pyforest_update_imports_cell) { window._pyforest_update_imports_cell('import numpy as np\\nimport matplotlib.pyplot as plt\\nimport os\\nimport pandas as pd'); }\n    ",
                        "text/plain": [
                            "<IPython.core.display.Javascript object>"
                        ]
                    },
                    "metadata": {},
                    "output_type": "display_data"
                },
                {
                    "data": {
                        "application/javascript": "\n        if (window._pyforest_update_imports_cell) { window._pyforest_update_imports_cell('import numpy as np\\nimport matplotlib.pyplot as plt\\nimport os\\nimport pandas as pd'); }\n    ",
                        "text/plain": [
                            "<IPython.core.display.Javascript object>"
                        ]
                    },
                    "metadata": {},
                    "output_type": "display_data"
                }
            ],
            "source": [
                "train_dummies = pd.get_dummies(train_df.class_name)\n",
                "test_dummies = pd.get_dummies(test_df.class_name)"
            ]
        },
        {
            "cell_type": "code",
            "execution_count": 32,
            "metadata": {},
            "outputs": [
                {
                    "data": {
                        "application/javascript": "\n        if (window._pyforest_update_imports_cell) { window._pyforest_update_imports_cell('import numpy as np\\nimport matplotlib.pyplot as plt\\nimport os\\nimport pandas as pd'); }\n    ",
                        "text/plain": [
                            "<IPython.core.display.Javascript object>"
                        ]
                    },
                    "metadata": {},
                    "output_type": "display_data"
                },
                {
                    "data": {
                        "text/html": [
                            "<div>\n",
                            "<style scoped>\n",
                            "    .dataframe tbody tr th:only-of-type {\n",
                            "        vertical-align: middle;\n",
                            "    }\n",
                            "\n",
                            "    .dataframe tbody tr th {\n",
                            "        vertical-align: top;\n",
                            "    }\n",
                            "\n",
                            "    .dataframe thead th {\n",
                            "        text-align: right;\n",
                            "    }\n",
                            "</style>\n",
                            "<table border=\"1\" class=\"dataframe\">\n",
                            "  <thead>\n",
                            "    <tr style=\"text-align: right;\">\n",
                            "      <th></th>\n",
                            "      <th>Aortic enlargement</th>\n",
                            "      <th>Atelectasis</th>\n",
                            "      <th>Calcification</th>\n",
                            "      <th>Cardiomegaly</th>\n",
                            "      <th>Consolidation</th>\n",
                            "      <th>ILD</th>\n",
                            "      <th>Infiltration</th>\n",
                            "      <th>Lung Opacity</th>\n",
                            "      <th>No finding</th>\n",
                            "      <th>Nodule/Mass</th>\n",
                            "      <th>Other lesion</th>\n",
                            "      <th>Pleural effusion</th>\n",
                            "      <th>Pleural thickening</th>\n",
                            "      <th>Pneumothorax</th>\n",
                            "      <th>Pulmonary fibrosis</th>\n",
                            "    </tr>\n",
                            "  </thead>\n",
                            "  <tbody>\n",
                            "    <tr>\n",
                            "      <th>25473</th>\n",
                            "      <td>0</td>\n",
                            "      <td>0</td>\n",
                            "      <td>0</td>\n",
                            "      <td>0</td>\n",
                            "      <td>0</td>\n",
                            "      <td>0</td>\n",
                            "      <td>0</td>\n",
                            "      <td>0</td>\n",
                            "      <td>1</td>\n",
                            "      <td>0</td>\n",
                            "      <td>0</td>\n",
                            "      <td>0</td>\n",
                            "      <td>0</td>\n",
                            "      <td>0</td>\n",
                            "      <td>0</td>\n",
                            "    </tr>\n",
                            "    <tr>\n",
                            "      <th>38910</th>\n",
                            "      <td>0</td>\n",
                            "      <td>0</td>\n",
                            "      <td>0</td>\n",
                            "      <td>0</td>\n",
                            "      <td>0</td>\n",
                            "      <td>0</td>\n",
                            "      <td>0</td>\n",
                            "      <td>0</td>\n",
                            "      <td>1</td>\n",
                            "      <td>0</td>\n",
                            "      <td>0</td>\n",
                            "      <td>0</td>\n",
                            "      <td>0</td>\n",
                            "      <td>0</td>\n",
                            "      <td>0</td>\n",
                            "    </tr>\n",
                            "    <tr>\n",
                            "      <th>34413</th>\n",
                            "      <td>0</td>\n",
                            "      <td>0</td>\n",
                            "      <td>0</td>\n",
                            "      <td>0</td>\n",
                            "      <td>0</td>\n",
                            "      <td>0</td>\n",
                            "      <td>0</td>\n",
                            "      <td>0</td>\n",
                            "      <td>1</td>\n",
                            "      <td>0</td>\n",
                            "      <td>0</td>\n",
                            "      <td>0</td>\n",
                            "      <td>0</td>\n",
                            "      <td>0</td>\n",
                            "      <td>0</td>\n",
                            "    </tr>\n",
                            "    <tr>\n",
                            "      <th>61409</th>\n",
                            "      <td>0</td>\n",
                            "      <td>0</td>\n",
                            "      <td>0</td>\n",
                            "      <td>0</td>\n",
                            "      <td>0</td>\n",
                            "      <td>0</td>\n",
                            "      <td>0</td>\n",
                            "      <td>0</td>\n",
                            "      <td>0</td>\n",
                            "      <td>0</td>\n",
                            "      <td>0</td>\n",
                            "      <td>1</td>\n",
                            "      <td>0</td>\n",
                            "      <td>0</td>\n",
                            "      <td>0</td>\n",
                            "    </tr>\n",
                            "    <tr>\n",
                            "      <th>52312</th>\n",
                            "      <td>0</td>\n",
                            "      <td>0</td>\n",
                            "      <td>0</td>\n",
                            "      <td>0</td>\n",
                            "      <td>0</td>\n",
                            "      <td>0</td>\n",
                            "      <td>1</td>\n",
                            "      <td>0</td>\n",
                            "      <td>0</td>\n",
                            "      <td>0</td>\n",
                            "      <td>0</td>\n",
                            "      <td>0</td>\n",
                            "      <td>0</td>\n",
                            "      <td>0</td>\n",
                            "      <td>0</td>\n",
                            "    </tr>\n",
                            "    <tr>\n",
                            "      <th>45451</th>\n",
                            "      <td>0</td>\n",
                            "      <td>0</td>\n",
                            "      <td>0</td>\n",
                            "      <td>1</td>\n",
                            "      <td>0</td>\n",
                            "      <td>0</td>\n",
                            "      <td>0</td>\n",
                            "      <td>0</td>\n",
                            "      <td>0</td>\n",
                            "      <td>0</td>\n",
                            "      <td>0</td>\n",
                            "      <td>0</td>\n",
                            "      <td>0</td>\n",
                            "      <td>0</td>\n",
                            "      <td>0</td>\n",
                            "    </tr>\n",
                            "    <tr>\n",
                            "      <th>7601</th>\n",
                            "      <td>0</td>\n",
                            "      <td>0</td>\n",
                            "      <td>0</td>\n",
                            "      <td>0</td>\n",
                            "      <td>0</td>\n",
                            "      <td>0</td>\n",
                            "      <td>0</td>\n",
                            "      <td>1</td>\n",
                            "      <td>0</td>\n",
                            "      <td>0</td>\n",
                            "      <td>0</td>\n",
                            "      <td>0</td>\n",
                            "      <td>0</td>\n",
                            "      <td>0</td>\n",
                            "      <td>0</td>\n",
                            "    </tr>\n",
                            "    <tr>\n",
                            "      <th>4057</th>\n",
                            "      <td>0</td>\n",
                            "      <td>0</td>\n",
                            "      <td>0</td>\n",
                            "      <td>0</td>\n",
                            "      <td>0</td>\n",
                            "      <td>0</td>\n",
                            "      <td>0</td>\n",
                            "      <td>0</td>\n",
                            "      <td>0</td>\n",
                            "      <td>0</td>\n",
                            "      <td>0</td>\n",
                            "      <td>0</td>\n",
                            "      <td>1</td>\n",
                            "      <td>0</td>\n",
                            "      <td>0</td>\n",
                            "    </tr>\n",
                            "    <tr>\n",
                            "      <th>54490</th>\n",
                            "      <td>0</td>\n",
                            "      <td>0</td>\n",
                            "      <td>0</td>\n",
                            "      <td>1</td>\n",
                            "      <td>0</td>\n",
                            "      <td>0</td>\n",
                            "      <td>0</td>\n",
                            "      <td>0</td>\n",
                            "      <td>0</td>\n",
                            "      <td>0</td>\n",
                            "      <td>0</td>\n",
                            "      <td>0</td>\n",
                            "      <td>0</td>\n",
                            "      <td>0</td>\n",
                            "      <td>0</td>\n",
                            "    </tr>\n",
                            "    <tr>\n",
                            "      <th>7857</th>\n",
                            "      <td>1</td>\n",
                            "      <td>0</td>\n",
                            "      <td>0</td>\n",
                            "      <td>0</td>\n",
                            "      <td>0</td>\n",
                            "      <td>0</td>\n",
                            "      <td>0</td>\n",
                            "      <td>0</td>\n",
                            "      <td>0</td>\n",
                            "      <td>0</td>\n",
                            "      <td>0</td>\n",
                            "      <td>0</td>\n",
                            "      <td>0</td>\n",
                            "      <td>0</td>\n",
                            "      <td>0</td>\n",
                            "    </tr>\n",
                            "    <tr>\n",
                            "      <th>95</th>\n",
                            "      <td>0</td>\n",
                            "      <td>0</td>\n",
                            "      <td>0</td>\n",
                            "      <td>0</td>\n",
                            "      <td>0</td>\n",
                            "      <td>0</td>\n",
                            "      <td>0</td>\n",
                            "      <td>0</td>\n",
                            "      <td>0</td>\n",
                            "      <td>0</td>\n",
                            "      <td>0</td>\n",
                            "      <td>0</td>\n",
                            "      <td>0</td>\n",
                            "      <td>0</td>\n",
                            "      <td>1</td>\n",
                            "    </tr>\n",
                            "    <tr>\n",
                            "      <th>46370</th>\n",
                            "      <td>0</td>\n",
                            "      <td>0</td>\n",
                            "      <td>0</td>\n",
                            "      <td>0</td>\n",
                            "      <td>0</td>\n",
                            "      <td>0</td>\n",
                            "      <td>0</td>\n",
                            "      <td>0</td>\n",
                            "      <td>1</td>\n",
                            "      <td>0</td>\n",
                            "      <td>0</td>\n",
                            "      <td>0</td>\n",
                            "      <td>0</td>\n",
                            "      <td>0</td>\n",
                            "      <td>0</td>\n",
                            "    </tr>\n",
                            "    <tr>\n",
                            "      <th>47622</th>\n",
                            "      <td>0</td>\n",
                            "      <td>0</td>\n",
                            "      <td>0</td>\n",
                            "      <td>0</td>\n",
                            "      <td>0</td>\n",
                            "      <td>0</td>\n",
                            "      <td>0</td>\n",
                            "      <td>0</td>\n",
                            "      <td>1</td>\n",
                            "      <td>0</td>\n",
                            "      <td>0</td>\n",
                            "      <td>0</td>\n",
                            "      <td>0</td>\n",
                            "      <td>0</td>\n",
                            "      <td>0</td>\n",
                            "    </tr>\n",
                            "    <tr>\n",
                            "      <th>59379</th>\n",
                            "      <td>0</td>\n",
                            "      <td>0</td>\n",
                            "      <td>0</td>\n",
                            "      <td>0</td>\n",
                            "      <td>0</td>\n",
                            "      <td>0</td>\n",
                            "      <td>0</td>\n",
                            "      <td>0</td>\n",
                            "      <td>0</td>\n",
                            "      <td>0</td>\n",
                            "      <td>0</td>\n",
                            "      <td>0</td>\n",
                            "      <td>1</td>\n",
                            "      <td>0</td>\n",
                            "      <td>0</td>\n",
                            "    </tr>\n",
                            "    <tr>\n",
                            "      <th>45189</th>\n",
                            "      <td>1</td>\n",
                            "      <td>0</td>\n",
                            "      <td>0</td>\n",
                            "      <td>0</td>\n",
                            "      <td>0</td>\n",
                            "      <td>0</td>\n",
                            "      <td>0</td>\n",
                            "      <td>0</td>\n",
                            "      <td>0</td>\n",
                            "      <td>0</td>\n",
                            "      <td>0</td>\n",
                            "      <td>0</td>\n",
                            "      <td>0</td>\n",
                            "      <td>0</td>\n",
                            "      <td>0</td>\n",
                            "    </tr>\n",
                            "    <tr>\n",
                            "      <th>58967</th>\n",
                            "      <td>0</td>\n",
                            "      <td>0</td>\n",
                            "      <td>0</td>\n",
                            "      <td>0</td>\n",
                            "      <td>0</td>\n",
                            "      <td>0</td>\n",
                            "      <td>0</td>\n",
                            "      <td>0</td>\n",
                            "      <td>1</td>\n",
                            "      <td>0</td>\n",
                            "      <td>0</td>\n",
                            "      <td>0</td>\n",
                            "      <td>0</td>\n",
                            "      <td>0</td>\n",
                            "      <td>0</td>\n",
                            "    </tr>\n",
                            "    <tr>\n",
                            "      <th>18140</th>\n",
                            "      <td>0</td>\n",
                            "      <td>0</td>\n",
                            "      <td>0</td>\n",
                            "      <td>0</td>\n",
                            "      <td>0</td>\n",
                            "      <td>0</td>\n",
                            "      <td>0</td>\n",
                            "      <td>0</td>\n",
                            "      <td>1</td>\n",
                            "      <td>0</td>\n",
                            "      <td>0</td>\n",
                            "      <td>0</td>\n",
                            "      <td>0</td>\n",
                            "      <td>0</td>\n",
                            "      <td>0</td>\n",
                            "    </tr>\n",
                            "    <tr>\n",
                            "      <th>9980</th>\n",
                            "      <td>0</td>\n",
                            "      <td>0</td>\n",
                            "      <td>0</td>\n",
                            "      <td>0</td>\n",
                            "      <td>0</td>\n",
                            "      <td>0</td>\n",
                            "      <td>0</td>\n",
                            "      <td>0</td>\n",
                            "      <td>1</td>\n",
                            "      <td>0</td>\n",
                            "      <td>0</td>\n",
                            "      <td>0</td>\n",
                            "      <td>0</td>\n",
                            "      <td>0</td>\n",
                            "      <td>0</td>\n",
                            "    </tr>\n",
                            "    <tr>\n",
                            "      <th>27559</th>\n",
                            "      <td>1</td>\n",
                            "      <td>0</td>\n",
                            "      <td>0</td>\n",
                            "      <td>0</td>\n",
                            "      <td>0</td>\n",
                            "      <td>0</td>\n",
                            "      <td>0</td>\n",
                            "      <td>0</td>\n",
                            "      <td>0</td>\n",
                            "      <td>0</td>\n",
                            "      <td>0</td>\n",
                            "      <td>0</td>\n",
                            "      <td>0</td>\n",
                            "      <td>0</td>\n",
                            "      <td>0</td>\n",
                            "    </tr>\n",
                            "    <tr>\n",
                            "      <th>27653</th>\n",
                            "      <td>0</td>\n",
                            "      <td>0</td>\n",
                            "      <td>0</td>\n",
                            "      <td>0</td>\n",
                            "      <td>0</td>\n",
                            "      <td>0</td>\n",
                            "      <td>0</td>\n",
                            "      <td>0</td>\n",
                            "      <td>0</td>\n",
                            "      <td>0</td>\n",
                            "      <td>0</td>\n",
                            "      <td>0</td>\n",
                            "      <td>1</td>\n",
                            "      <td>0</td>\n",
                            "      <td>0</td>\n",
                            "    </tr>\n",
                            "  </tbody>\n",
                            "</table>\n",
                            "</div>"
                        ],
                        "text/plain": [
                            "       Aortic enlargement  Atelectasis  Calcification  Cardiomegaly  \\\n",
                            "25473                   0            0              0             0   \n",
                            "38910                   0            0              0             0   \n",
                            "34413                   0            0              0             0   \n",
                            "61409                   0            0              0             0   \n",
                            "52312                   0            0              0             0   \n",
                            "45451                   0            0              0             1   \n",
                            "7601                    0            0              0             0   \n",
                            "4057                    0            0              0             0   \n",
                            "54490                   0            0              0             1   \n",
                            "7857                    1            0              0             0   \n",
                            "95                      0            0              0             0   \n",
                            "46370                   0            0              0             0   \n",
                            "47622                   0            0              0             0   \n",
                            "59379                   0            0              0             0   \n",
                            "45189                   1            0              0             0   \n",
                            "58967                   0            0              0             0   \n",
                            "18140                   0            0              0             0   \n",
                            "9980                    0            0              0             0   \n",
                            "27559                   1            0              0             0   \n",
                            "27653                   0            0              0             0   \n",
                            "\n",
                            "       Consolidation  ILD  Infiltration  Lung Opacity  No finding  \\\n",
                            "25473              0    0             0             0           1   \n",
                            "38910              0    0             0             0           1   \n",
                            "34413              0    0             0             0           1   \n",
                            "61409              0    0             0             0           0   \n",
                            "52312              0    0             1             0           0   \n",
                            "45451              0    0             0             0           0   \n",
                            "7601               0    0             0             1           0   \n",
                            "4057               0    0             0             0           0   \n",
                            "54490              0    0             0             0           0   \n",
                            "7857               0    0             0             0           0   \n",
                            "95                 0    0             0             0           0   \n",
                            "46370              0    0             0             0           1   \n",
                            "47622              0    0             0             0           1   \n",
                            "59379              0    0             0             0           0   \n",
                            "45189              0    0             0             0           0   \n",
                            "58967              0    0             0             0           1   \n",
                            "18140              0    0             0             0           1   \n",
                            "9980               0    0             0             0           1   \n",
                            "27559              0    0             0             0           0   \n",
                            "27653              0    0             0             0           0   \n",
                            "\n",
                            "       Nodule/Mass  Other lesion  Pleural effusion  Pleural thickening  \\\n",
                            "25473            0             0                 0                   0   \n",
                            "38910            0             0                 0                   0   \n",
                            "34413            0             0                 0                   0   \n",
                            "61409            0             0                 1                   0   \n",
                            "52312            0             0                 0                   0   \n",
                            "45451            0             0                 0                   0   \n",
                            "7601             0             0                 0                   0   \n",
                            "4057             0             0                 0                   1   \n",
                            "54490            0             0                 0                   0   \n",
                            "7857             0             0                 0                   0   \n",
                            "95               0             0                 0                   0   \n",
                            "46370            0             0                 0                   0   \n",
                            "47622            0             0                 0                   0   \n",
                            "59379            0             0                 0                   1   \n",
                            "45189            0             0                 0                   0   \n",
                            "58967            0             0                 0                   0   \n",
                            "18140            0             0                 0                   0   \n",
                            "9980             0             0                 0                   0   \n",
                            "27559            0             0                 0                   0   \n",
                            "27653            0             0                 0                   1   \n",
                            "\n",
                            "       Pneumothorax  Pulmonary fibrosis  \n",
                            "25473             0                   0  \n",
                            "38910             0                   0  \n",
                            "34413             0                   0  \n",
                            "61409             0                   0  \n",
                            "52312             0                   0  \n",
                            "45451             0                   0  \n",
                            "7601              0                   0  \n",
                            "4057              0                   0  \n",
                            "54490             0                   0  \n",
                            "7857              0                   0  \n",
                            "95                0                   1  \n",
                            "46370             0                   0  \n",
                            "47622             0                   0  \n",
                            "59379             0                   0  \n",
                            "45189             0                   0  \n",
                            "58967             0                   0  \n",
                            "18140             0                   0  \n",
                            "9980              0                   0  \n",
                            "27559             0                   0  \n",
                            "27653             0                   0  "
                        ]
                    },
                    "execution_count": 32,
                    "metadata": {},
                    "output_type": "execute_result"
                },
                {
                    "data": {
                        "application/javascript": "\n        if (window._pyforest_update_imports_cell) { window._pyforest_update_imports_cell('import numpy as np\\nimport matplotlib.pyplot as plt\\nimport os\\nimport pandas as pd'); }\n    ",
                        "text/plain": [
                            "<IPython.core.display.Javascript object>"
                        ]
                    },
                    "metadata": {},
                    "output_type": "display_data"
                }
            ],
            "source": [
                "train_dummies.head(20)"
            ]
        },
        {
            "cell_type": "code",
            "execution_count": 33,
            "metadata": {},
            "outputs": [
                {
                    "data": {
                        "application/javascript": "\n        if (window._pyforest_update_imports_cell) { window._pyforest_update_imports_cell('import numpy as np\\nimport matplotlib.pyplot as plt\\nimport os\\nimport pandas as pd'); }\n    ",
                        "text/plain": [
                            "<IPython.core.display.Javascript object>"
                        ]
                    },
                    "metadata": {},
                    "output_type": "display_data"
                },
                {
                    "data": {
                        "application/javascript": "\n        if (window._pyforest_update_imports_cell) { window._pyforest_update_imports_cell('import numpy as np\\nimport matplotlib.pyplot as plt\\nimport os\\nimport pandas as pd'); }\n    ",
                        "text/plain": [
                            "<IPython.core.display.Javascript object>"
                        ]
                    },
                    "metadata": {},
                    "output_type": "display_data"
                },
                {
                    "data": {
                        "text/plain": [
                            "Text(0.5, 1.0, 'Train set')"
                        ]
                    },
                    "execution_count": 33,
                    "metadata": {},
                    "output_type": "execute_result"
                },
                {
                    "data": {
                        "image/png": "[encoded data removed]",
                        "text/plain": [
                            "<Figure size 1080x360 with 2 Axes>"
                        ]
                    },
                    "metadata": {},
                    "output_type": "display_data"
                },
                {
                    "data": {
                        "application/javascript": "\n        if (window._pyforest_update_imports_cell) { window._pyforest_update_imports_cell('import numpy as np\\nimport matplotlib.pyplot as plt\\nimport os\\nimport pandas as pd'); }\n    ",
                        "text/plain": [
                            "<IPython.core.display.Javascript object>"
                        ]
                    },
                    "metadata": {},
                    "output_type": "display_data"
                }
            ],
            "source": [
                "f, (ax1, ax2) = plt.subplots(1, 2, figsize=(15, 5))\n",
                "ax1.tick_params(axis='x', labelrotation=90)\n",
                "ax2.tick_params(axis='x', labelrotation=90)\n",
                "g1 = sns.histplot(train_df, ax=ax1)\n",
                "g2= sns.histplot(test_df, ax=ax2)\n",
                "g2.set_title(\"Test set\")\n",
                "g1.set_title(\"Train set\")\n",
                "# g1.set_xticklabels(disease)"
            ]
        },
        {
            "cell_type": "code",
            "execution_count": 34,
            "metadata": {},
            "outputs": [
                {
                    "data": {
                        "application/javascript": "\n        if (window._pyforest_update_imports_cell) { window._pyforest_update_imports_cell('import numpy as np\\nimport matplotlib.pyplot as plt\\nimport os\\nimport pandas as pd'); }\n    ",
                        "text/plain": [
                            "<IPython.core.display.Javascript object>"
                        ]
                    },
                    "metadata": {},
                    "output_type": "display_data"
                },
                {
                    "data": {
                        "application/javascript": "\n        if (window._pyforest_update_imports_cell) { window._pyforest_update_imports_cell('import numpy as np\\nimport matplotlib.pyplot as plt\\nimport os\\nimport pandas as pd'); }\n    ",
                        "text/plain": [
                            "<IPython.core.display.Javascript object>"
                        ]
                    },
                    "metadata": {},
                    "output_type": "display_data"
                }
            ],
            "source": [
                "def get_class_frequencies(dataframe,target):\n",
                "  try:\n",
                "    dataframe = pd.get_dummies(dataframe[target].astype(str))\n",
                "  except:\n",
                "    dataframe = pd.get_dummies(dataframe[target])\n",
                "    \n",
                "  f, (ax1, ax2) = plt.subplots(1, 2, figsize=(15, 5))\n",
                "  sample_array = np.array(dataframe)\n",
                "  positive_freq = sample_array.sum(axis=0) / sample_array.shape[0]\n",
                "  negative_freq = np.ones(positive_freq.shape) - positive_freq\n",
                "  data = pd.DataFrame({\"Class\": dataframe.columns, \"Label\": \"Positive\", \"Value\": positive_freq})\n",
                "  data = data.append([{\"Class\": dataframe.columns[l], \"Label\": \"Negative\", \"Value\": v} for l, v in enumerate(negative_freq)], ignore_index=True)\n",
                "  plt.xticks(rotation=90)\n",
                "  sns.barplot(x=\"Class\", y=\"Value\",hue=\"Label\", data=data, ax=ax1)\n",
                "  pos_weights = negative_freq\n",
                "  neg_weights = positive_freq\n",
                "  pos_contribution = positive_freq * pos_weights\n",
                "  neg_contribution = negative_freq * neg_weights\n",
                "\n",
                "  # print(\"Weight to be added:  \",pos_contribution)\n",
                "  \n",
                "  data1 = pd.DataFrame({\"Class\": dataframe.columns, \"Label\": \"Positive\", \"Value\": pos_contribution})\n",
                "  data1 = data1.append([{\"Class\": dataframe.columns[l], \"Label\": \"Negative\", \"Value\": v} for l, v in enumerate(neg_contribution)], ignore_index=True)\n",
                "  ax1.tick_params(axis='x', labelrotation=90)\n",
                "  ax2.tick_params(axis='x', labelrotation=90)\n",
                "  sns.barplot(x=\"Class\", y=\"Value\",hue=\"Label\", data=data1, ax=ax2)\n",
                "  \n",
                "  return pos_contribution"
            ]
        },
        {
            "cell_type": "code",
            "execution_count": 35,
            "metadata": {},
            "outputs": [
                {
                    "data": {
                        "application/javascript": "\n        if (window._pyforest_update_imports_cell) { window._pyforest_update_imports_cell('import numpy as np\\nimport matplotlib.pyplot as plt\\nimport os\\nimport pandas as pd'); }\n    ",
                        "text/plain": [
                            "<IPython.core.display.Javascript object>"
                        ]
                    },
                    "metadata": {},
                    "output_type": "display_data"
                },
                {
                    "data": {
                        "application/javascript": "\n        if (window._pyforest_update_imports_cell) { window._pyforest_update_imports_cell('import numpy as np\\nimport matplotlib.pyplot as plt\\nimport os\\nimport pandas as pd'); }\n    ",
                        "text/plain": [
                            "<IPython.core.display.Javascript object>"
                        ]
                    },
                    "metadata": {},
                    "output_type": "display_data"
                },
                {
                    "data": {
                        "application/javascript": "\n        if (window._pyforest_update_imports_cell) { window._pyforest_update_imports_cell('import numpy as np\\nimport matplotlib.pyplot as plt\\nimport os\\nimport pandas as pd'); }\n    ",
                        "text/plain": [
                            "<IPython.core.display.Javascript object>"
                        ]
                    },
                    "metadata": {},
                    "output_type": "display_data"
                },
                {
                    "data": {
                        "application/javascript": "\n        if (window._pyforest_update_imports_cell) { window._pyforest_update_imports_cell('import numpy as np\\nimport matplotlib.pyplot as plt\\nimport os\\nimport pandas as pd'); }\n    ",
                        "text/plain": [
                            "<IPython.core.display.Javascript object>"
                        ]
                    },
                    "metadata": {},
                    "output_type": "display_data"
                },
                {
                    "data": {
                        "application/javascript": "\n        if (window._pyforest_update_imports_cell) { window._pyforest_update_imports_cell('import numpy as np\\nimport matplotlib.pyplot as plt\\nimport os\\nimport pandas as pd'); }\n    ",
                        "text/plain": [
                            "<IPython.core.display.Javascript object>"
                        ]
                    },
                    "metadata": {},
                    "output_type": "display_data"
                },
                {
                    "data": {
                        "application/javascript": "\n        if (window._pyforest_update_imports_cell) { window._pyforest_update_imports_cell('import numpy as np\\nimport matplotlib.pyplot as plt\\nimport os\\nimport pandas as pd'); }\n    ",
                        "text/plain": [
                            "<IPython.core.display.Javascript object>"
                        ]
                    },
                    "metadata": {},
                    "output_type": "display_data"
                },
                {
                    "data": {
                        "application/javascript": "\n        if (window._pyforest_update_imports_cell) { window._pyforest_update_imports_cell('import numpy as np\\nimport matplotlib.pyplot as plt\\nimport os\\nimport pandas as pd'); }\n    ",
                        "text/plain": [
                            "<IPython.core.display.Javascript object>"
                        ]
                    },
                    "metadata": {},
                    "output_type": "display_data"
                },
                {
                    "data": {
                        "application/javascript": "\n        if (window._pyforest_update_imports_cell) { window._pyforest_update_imports_cell('import numpy as np\\nimport matplotlib.pyplot as plt\\nimport os\\nimport pandas as pd'); }\n    ",
                        "text/plain": [
                            "<IPython.core.display.Javascript object>"
                        ]
                    },
                    "metadata": {},
                    "output_type": "display_data"
                },
                {
                    "data": {
                        "image/png": "[encoded data removed]",
                        "text/plain": [
                            "<Figure size 1080x360 with 2 Axes>"
                        ]
                    },
                    "metadata": {},
                    "output_type": "display_data"
                },
                {
                    "data": {
                        "application/javascript": "\n        if (window._pyforest_update_imports_cell) { window._pyforest_update_imports_cell('import numpy as np\\nimport matplotlib.pyplot as plt\\nimport os\\nimport pandas as pd'); }\n    ",
                        "text/plain": [
                            "<IPython.core.display.Javascript object>"
                        ]
                    },
                    "metadata": {},
                    "output_type": "display_data"
                }
            ],
            "source": [
                "weights = get_class_frequencies(df, \"class_name\")"
            ]
        },
        {
            "cell_type": "code",
            "execution_count": 36,
            "metadata": {},
            "outputs": [
                {
                    "data": {
                        "application/javascript": "\n        if (window._pyforest_update_imports_cell) { window._pyforest_update_imports_cell('import numpy as np\\nimport matplotlib.pyplot as plt\\nimport os\\nimport pandas as pd'); }\n    ",
                        "text/plain": [
                            "<IPython.core.display.Javascript object>"
                        ]
                    },
                    "metadata": {},
                    "output_type": "display_data"
                },
                {
                    "data": {
                        "application/javascript": "\n        if (window._pyforest_update_imports_cell) { window._pyforest_update_imports_cell('import numpy as np\\nimport matplotlib.pyplot as plt\\nimport os\\nimport pandas as pd'); }\n    ",
                        "text/plain": [
                            "<IPython.core.display.Javascript object>"
                        ]
                    },
                    "metadata": {},
                    "output_type": "display_data"
                }
            ],
            "source": [
                "X, y = test_df.imagepath, test_df.class_id\n",
                "X_valid, X_test, y_valid, y_test = train_test_split(X, y, test_size=0.5, random_state=42, stratify=y)"
            ]
        },
        {
            "cell_type": "code",
            "execution_count": 37,
            "metadata": {},
            "outputs": [
                {
                    "data": {
                        "application/javascript": "\n        if (window._pyforest_update_imports_cell) { window._pyforest_update_imports_cell('import numpy as np\\nimport matplotlib.pyplot as plt\\nimport os\\nimport pandas as pd'); }\n    ",
                        "text/plain": [
                            "<IPython.core.display.Javascript object>"
                        ]
                    },
                    "metadata": {},
                    "output_type": "display_data"
                },
                {
                    "data": {
                        "application/javascript": "\n        if (window._pyforest_update_imports_cell) { window._pyforest_update_imports_cell('import numpy as np\\nimport matplotlib.pyplot as plt\\nimport os\\nimport pandas as pd'); }\n    ",
                        "text/plain": [
                            "<IPython.core.display.Javascript object>"
                        ]
                    },
                    "metadata": {},
                    "output_type": "display_data"
                },
                {
                    "data": {
                        "application/javascript": "\n        if (window._pyforest_update_imports_cell) { window._pyforest_update_imports_cell('import numpy as np\\nimport matplotlib.pyplot as plt\\nimport os\\nimport pandas as pd'); }\n    ",
                        "text/plain": [
                            "<IPython.core.display.Javascript object>"
                        ]
                    },
                    "metadata": {},
                    "output_type": "display_data"
                },
                {
                    "data": {
                        "application/javascript": "\n        if (window._pyforest_update_imports_cell) { window._pyforest_update_imports_cell('import numpy as np\\nimport matplotlib.pyplot as plt\\nimport os\\nimport pandas as pd'); }\n    ",
                        "text/plain": [
                            "<IPython.core.display.Javascript object>"
                        ]
                    },
                    "metadata": {},
                    "output_type": "display_data"
                }
            ],
            "source": [
                "valid = pd.concat([X_valid, y_valid], axis=1, join='inner')\n",
                "#reset index \n",
                "valid = valid.reset_index(drop=True)\n",
                "test = pd.concat([X_test, y_test], axis=1, join='inner')\n",
                "test = test.reset_index(drop=True)\n",
                "train = train_df[['imagepath', 'class_id']]\n",
                "train = train.reset_index(drop=True)"
            ]
        }
    ],
    "metadata": {
        "language_info": {
            "codemirror_mode": {
                "name": "ipython",
                "version": 3
            },
            "file_extension": ".py",
            "mimetype": "text/x-python",
            "name": "python",
            "nbconvert_exporter": "python",
            "pygments_lexer": "ipython3",
            "version": 3
        },
        "orig_nbformat": 4
    },
    "nbformat": 4,
    "nbformat_minor": 2
}
